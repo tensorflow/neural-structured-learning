{
 "cells": [
  {
   "cell_type": "markdown",
   "metadata": {
    "colab_type": "text",
    "id": "85lXAvQDz7K-"
   },
   "source": [
    "# Adversarial Learning: Building Robust Image Classifiers\n",
    "\n",
    "\n",
    "## Overview\n",
    "\n",
    "In this session, we will explore the use of adversarial learning\n",
    "([Goodfellow et al., 2014](https://arxiv.org/abs/1412.6572)) for image\n",
    "classification using the Neural Structured Learning (NSL) framework from TensorFlow.\n",
    "\n",
    "Adversarial attacks basically mean purposely introducing some noise in the form of perturbations to input images to fool the deep learning model. Considering a classification system, by adding an imperceptibly small vector whose elements are equal to the sign of the elements of the gradient of the cost function with respect to the input, we can change the model's classification of the image. \n",
    "\n",
    "![](https://i.imgur.com/FyYq2Q0.png)\n",
    "\n",
    "\n",
    "The core idea of adversarial learning is to train a model with\n",
    "adversarially-perturbed data (called adversarial examples) in addition to the\n",
    "organic training data. The adversarial examples are constructed to intentionally\n",
    "mislead the model into making wrong predictions or classifications. By training\n",
    "with such examples, the model learns to be robust against adversarial\n",
    "perturbation when making predictions.\n",
    "\n",
    "## CNN Classifier\n",
    "\n",
    "The most popular deep learning models leveraged for computer vision problems are convolutional neural networks (CNNs)!\n",
    "\n",
    "![](https://miro.medium.com/max/2000/1*rO65zGl2k7xVBRhJZggQSA.gif)\n",
    "\n",
    "We will look at how we can build, train and evaluate a multi-class CNN classifier in this notebook and also perform adversarial learning.\n",
    "\n",
    "\n",
    "## Transfer Learning\n",
    "\n",
    "The idea is to leverage a pre-trained model instead of building a CNN from scratch in our image classification problem\n",
    "\n",
    "![](https://i.imgur.com/WcUabml.png)\n",
    "\n",
    "\n",
    "## Tutorial Outline\n",
    "\n",
    "In this tutorial, we illustrate the following procedure of applying adversarial learning to obtain robust models using the Neural Structured Learning framework on a CNN model:\n",
    "\n",
    "1.  Creata a neural network as a base model. In this tutorial, the base model is\n",
    "    created with the `tf.keras` sequential API by wrapping a pre-trained `VGG19` model which we use for fine-tuning using transfer learning\n",
    "2. Train and evaluate the base model performance on organic FashionMNIST data\n",
    "3. Perform perturbations using the fast gradient sign method (FSGM) technique and look at model weaknesses\n",
    "4. Generate perturbed dataset from the test data using FGSM and evaluate base model performance\n",
    "5. Wrap the base model with the **`AdversarialRegularization`** wrapper class,\n",
    "    which is provided by the NSL framework, to create a new `tf.keras.Model`\n",
    "    instance. This new model will include the __adversarial loss__ as a\n",
    "    regularization term in its training objective.\n",
    "6.  Convert examples in the training data to a tf.data.Dataset to train.\n",
    "7.  Train and evaluate the adversarial model using adversarial regularization based learning\n",
    "8. Evaluate adversarial model performance on organic and perturbed test datasets\n",
    "9. Compare model performances of base model and adversarial model\n",
    "\n",
    "\n",
    "<div style=\"text-align: right\"><i><font size=\"2\">Tutorial by: <a href=\"https://www.linkedin.com/in/dipanzan\" target=\"_parent\">Dipanjan (DJ) Sarkar</a></font></i></div>"
   ]
  },
  {
   "cell_type": "markdown",
   "metadata": {
    "colab_type": "text",
    "id": "6R-3UHdk23HV"
   },
   "source": [
    "# Load Dependencies \n",
    "\n",
    "This leverages the __`tf.keras`__ API style and hence it is recommended you try this out on TensorFlow 2.x"
   ]
  },
  {
   "cell_type": "code",
   "execution_count": null,
   "metadata": {
    "colab": {
     "base_uri": "https://localhost:8080/",
     "height": 34
    },
    "colab_type": "code",
    "id": "49d7nXjJ4T_j",
    "outputId": "3cf4eeb8-eb18-4c4a-957c-0f40c1eef2c4"
   },
   "outputs": [
    {
     "name": "stdout",
     "output_type": "stream",
     "text": [
      "2.3.0\n"
     ]
    }
   ],
   "source": [
    "# to prevent unnecessary warnings\n",
    "import warnings\n",
    "warnings.simplefilter(action='ignore', category=FutureWarning)\n",
    "\n",
    "# TensorFlow and tf.keras\n",
    "import tensorflow as tf\n",
    "\n",
    "# Helper libraries\n",
    "import numpy as np\n",
    "import matplotlib.pyplot as plt\n",
    "import os\n",
    "import subprocess\n",
    "import cv2\n",
    "import json\n",
    "import requests\n",
    "from tqdm import tqdm\n",
    "\n",
    "print(tf.__version__)"
   ]
  },
  {
   "cell_type": "markdown",
   "metadata": {
    "colab_type": "text",
    "id": "BNWq4-tI3MyT"
   },
   "source": [
    "# Main Objective — Building an Apparel Classifier & Perform Adversarial Learning \n",
    "\n",
    "- We will keep things simple here with regard to the key objective. We will build a simple apparel classifier by training models on the very famous [Fashion MNIST](https://github.com/zalandoresearch/fashion-mnist) dataset based on Zalando’s article images — consisting of a training set of 60,000 examples and a test set of 10,000 examples. Each example is a 28x28 grayscale image, associated with a label from 10 classes. The idea is to classify these images into an apparel category amongst 10 categories on which we will be training our models on.\n",
    "\n",
    "- The second main objective here is to perturb and add some intentional noise to these apparel images to try and fool our classification model\n",
    "\n",
    "- The third main objective is to build an adversarial regularized model on top of our base model by training it on perturbed images to try and perform better on adversarial attacks\n",
    "\n",
    "Here's an example how the data looks (each class takes three-rows):\n",
    "\n",
    "<table>\n",
    "  <tr><td>\n",
    "    <img src=\"https://raw.githubusercontent.com/zalandoresearch/fashion-mnist/master/doc/img/fashion-mnist-sprite.png\"\n",
    "         alt=\"Fashion MNIST sprite\"  width=\"600\">\n",
    "  </td></tr>\n",
    "  <tr><td align=\"center\">\n",
    "    <a href=\"https://github.com/zalandoresearch/fashion-mnist\">Fashion-MNIST samples</a> (by Zalando, MIT License).<br/>&nbsp;\n",
    "  </td></tr>\n",
    "</table>\n",
    "\n",
    "Fashion MNIST is intended as a drop-in replacement for the classic [MNIST](http://yann.lecun.com/exdb/mnist/) dataset—often used as the \"Hello, World\" of machine learning programs for computer vision. You can access the Fashion MNIST directly from TensorFlow.\n",
    "\n",
    "__Note:__ Although these are really images, they are loaded as NumPy arrays and not binary image objects."
   ]
  },
  {
   "cell_type": "markdown",
   "metadata": {
    "colab_type": "text",
    "id": "ojdYNyra3ynO"
   },
   "source": [
    "We will build the following two deep learning CNN (Convolutional Neural Network) classifiers in this notebook.\n",
    "- Fine-tuned pre-trained VGG-19 CNN (Base Model)\n",
    "- Adversarial Regularization Trained VGG-19 CNN Model (Adversarial Model)\n",
    "\n",
    "The idea is to look at how to use transfer learning where you fine-tune a pre-trained model to adapt it to classify images based on your dataset and then build a robust classifier which can handle adversarial attacks using adversarial learning."
   ]
  },
  {
   "cell_type": "markdown",
   "metadata": {
    "colab_type": "text",
    "id": "rcGTAx-J4JiC"
   },
   "source": [
    "# Load Dataset\n",
    "Here we will leverage an out of the box dataset to keep things simple as we mentioned earlier by leveraging the Fashion-MNIST dataset."
   ]
  },
  {
   "cell_type": "code",
   "execution_count": null,
   "metadata": {
    "colab": {
     "base_uri": "https://localhost:8080/",
     "height": 202
    },
    "colab_type": "code",
    "id": "qKNH32fRBE57",
    "outputId": "5c13bcf6-9f31-4e61-9b02-adc84f04983d"
   },
   "outputs": [
    {
     "name": "stdout",
     "output_type": "stream",
     "text": [
      "Downloading data from https://storage.googleapis.com/tensorflow/tf-keras-datasets/train-labels-idx1-ubyte.gz\n",
      "32768/29515 [=================================] - 0s 0us/step\n",
      "Downloading data from https://storage.googleapis.com/tensorflow/tf-keras-datasets/train-images-idx3-ubyte.gz\n",
      "26427392/26421880 [==============================] - 1s 0us/step\n",
      "Downloading data from https://storage.googleapis.com/tensorflow/tf-keras-datasets/t10k-labels-idx1-ubyte.gz\n",
      "8192/5148 [===============================================] - 0s 0us/step\n",
      "Downloading data from https://storage.googleapis.com/tensorflow/tf-keras-datasets/t10k-images-idx3-ubyte.gz\n",
      "4423680/4422102 [==============================] - 0s 0us/step\n",
      "\n",
      "Train_images.shape: (60000, 28, 28), of uint8\n",
      "Test_images.shape: (10000, 28, 28), of uint8\n"
     ]
    }
   ],
   "source": [
    "fashion_mnist = tf.keras.datasets.fashion_mnist\n",
    "(train_images, train_labels), (test_images, test_labels) = fashion_mnist.load_data()\n",
    "\n",
    "class_names = ['T-shirt/top', 'Trouser', 'Pullover', 'Dress', 'Coat',\n",
    "               'Sandal', 'Shirt', 'Sneaker', 'Bag', 'Ankle boot']\n",
    "\n",
    "print('\\nTrain_images.shape: {}, of {}'.format(train_images.shape, train_images.dtype))\n",
    "print('Test_images.shape: {}, of {}'.format(test_images.shape, test_images.dtype))"
   ]
  },
  {
   "cell_type": "markdown",
   "metadata": {
    "colab_type": "text",
    "id": "Rvy45oW04Kjx"
   },
   "source": [
    "# Fine-tuning a pre-trained VGG-19 CNN Model - Base Model\n",
    "\n",
    "Here, we will use a VGG-19 model which was pre-trained on the ImageNet dataset by fine-tuning it on the Fashion-MNIST dataset. "
   ]
  },
  {
   "cell_type": "markdown",
   "metadata": {
    "colab_type": "text",
    "id": "NhYXykze4R8x"
   },
   "source": [
    "## Model Architecture Details\n",
    "\n",
    "![](https://i.imgur.com/1VZ7MlO.png)"
   ]
  },
  {
   "cell_type": "markdown",
   "metadata": {
    "colab_type": "text",
    "id": "r-hvmAoe4Wz2"
   },
   "source": [
    "## Reshaping Image Data for Modeling\n",
    "\n",
    "We do need to reshape our data before we train our model. Here we will convert the images to 3-channel images (image pixel tensors) as the VGG model was originally trained on RGB images"
   ]
  },
  {
   "cell_type": "code",
   "execution_count": null,
   "metadata": {
    "colab": {
     "base_uri": "https://localhost:8080/",
     "height": 67
    },
    "colab_type": "code",
    "id": "R4jLZ-HiBIw3",
    "outputId": "09d421ab-a2b7-4085-dfdc-18d66eadae1e"
   },
   "outputs": [
    {
     "name": "stdout",
     "output_type": "stream",
     "text": [
      "\n",
      "Train_images.shape: (60000, 28, 28, 3), of uint8\n",
      "Test_images.shape: (10000, 28, 28, 3), of uint8\n"
     ]
    }
   ],
   "source": [
    "train_images_3ch = np.stack([train_images]*3, axis=-1)\n",
    "test_images_3ch = np.stack([test_images]*3, axis=-1)\n",
    "\n",
    "print('\\nTrain_images.shape: {}, of {}'.format(train_images_3ch.shape, train_images_3ch.dtype))\n",
    "print('Test_images.shape: {}, of {}'.format(test_images_3ch.shape, test_images_3ch.dtype))"
   ]
  },
  {
   "cell_type": "markdown",
   "metadata": {
    "colab_type": "text",
    "id": "bCHF22OG4X7j"
   },
   "source": [
    "## Resizing Image Data for Modeling\n",
    "\n",
    "The minimum image size expected by the VGG model is 32x32 so we need to resize our images"
   ]
  },
  {
   "cell_type": "code",
   "execution_count": null,
   "metadata": {
    "colab": {},
    "colab_type": "code",
    "id": "mQ-192wqBYnE"
   },
   "outputs": [],
   "source": [
    "\n",
    "def resize_image_array(img, img_size_dims):\n",
    "    img = cv2.resize(img, dsize=img_size_dims, \n",
    "                     interpolation=cv2.INTER_CUBIC)\n",
    "    img = np.array(img, dtype=np.float32)\n",
    "    return img"
   ]
  },
  {
   "cell_type": "code",
   "execution_count": null,
   "metadata": {
    "colab": {
     "base_uri": "https://localhost:8080/",
     "height": 101
    },
    "colab_type": "code",
    "id": "GP0f5DSCBcx_",
    "outputId": "1174007d-8378-4dc0-bdd9-805fd29df123"
   },
   "outputs": [
    {
     "name": "stdout",
     "output_type": "stream",
     "text": [
      "\n",
      "Train_images.shape: (60000, 32, 32, 3), of float32\n",
      "Test_images.shape: (10000, 32, 32, 3), of float32\n",
      "CPU times: user 1.8 s, sys: 623 ms, total: 2.42 s\n",
      "Wall time: 2.44 s\n"
     ]
    }
   ],
   "source": [
    "%%time\n",
    "\n",
    "IMG_DIMS = (32, 32)\n",
    "\n",
    "train_images_3ch = np.array([resize_image_array(img, img_size_dims=IMG_DIMS) for img in train_images_3ch])\n",
    "test_images_3ch = np.array([resize_image_array(img, img_size_dims=IMG_DIMS) for img in test_images_3ch])\n",
    "\n",
    "print('\\nTrain_images.shape: {}, of {}'.format(train_images_3ch.shape, train_images_3ch.dtype))\n",
    "print('Test_images.shape: {}, of {}'.format(test_images_3ch.shape, test_images_3ch.dtype))"
   ]
  },
  {
   "cell_type": "markdown",
   "metadata": {
    "colab_type": "text",
    "id": "pPkhVHcE4fLP"
   },
   "source": [
    "## View Sample Data"
   ]
  },
  {
   "cell_type": "code",
   "execution_count": null,
   "metadata": {
    "colab": {
     "base_uri": "https://localhost:8080/",
     "height": 357
    },
    "colab_type": "code",
    "id": "Q9OQCxNSBkuU",
    "outputId": "67e84589-faf6-46aa-9e76-e9eb875eba3d"
   },
   "outputs": [
    {
     "data": {
      "image/png": "[encoded data removed]",
      "text/plain": [
       "<Figure size 864x432 with 10 Axes>"
      ]
     },
     "metadata": {
      "needs_background": "light",
      "tags": []
     },
     "output_type": "display_data"
    }
   ],
   "source": [
    "fig, ax = plt.subplots(2, 5, figsize=(12, 6))\n",
    "c = 0\n",
    "for i in range(10):\n",
    "    idx = i // 5\n",
    "    idy = i % 5 \n",
    "    ax[idx, idy].imshow(train_images_3ch[i]/255.)\n",
    "    ax[idx, idy].set_title(class_names[train_labels[i]])"
   ]
  },
  {
   "cell_type": "markdown",
   "metadata": {
    "colab_type": "text",
    "id": "vG8LrkTo4g0u"
   },
   "source": [
    "## Build CNN Model Architecture\n",
    "\n",
    "We will now build our CNN model architecture customizing the VGG-19 model."
   ]
  },
  {
   "cell_type": "markdown",
   "metadata": {
    "colab_type": "text",
    "id": "CutujgiR4kDs"
   },
   "source": [
    "### Build Cut-VGG19 Model"
   ]
  },
  {
   "cell_type": "code",
   "execution_count": null,
   "metadata": {
    "colab": {
     "base_uri": "https://localhost:8080/",
     "height": 924
    },
    "colab_type": "code",
    "id": "ubUn6yJdBtNt",
    "outputId": "42de6439-748f-4949-f903-6372a7afe5ef"
   },
   "outputs": [
    {
     "name": "stdout",
     "output_type": "stream",
     "text": [
      "Downloading data from https://storage.googleapis.com/tensorflow/keras-applications/vgg19/vgg19_weights_tf_dim_ordering_tf_kernels_notop.h5\n",
      "80142336/80134624 [==============================] - 2s 0us/step\n",
      "Model: \"vgg19\"\n",
      "_________________________________________________________________\n",
      "Layer (type)                 Output Shape              Param #   \n",
      "=================================================================\n",
      "input_1 (InputLayer)         [(None, 32, 32, 3)]       0         \n",
      "_________________________________________________________________\n",
      "block1_conv1 (Conv2D)        (None, 32, 32, 64)        1792      \n",
      "_________________________________________________________________\n",
      "block1_conv2 (Conv2D)        (None, 32, 32, 64)        36928     \n",
      "_________________________________________________________________\n",
      "block1_pool (MaxPooling2D)   (None, 16, 16, 64)        0         \n",
      "_________________________________________________________________\n",
      "block2_conv1 (Conv2D)        (None, 16, 16, 128)       73856     \n",
      "_________________________________________________________________\n",
      "block2_conv2 (Conv2D)        (None, 16, 16, 128)       147584    \n",
      "_________________________________________________________________\n",
      "block2_pool (MaxPooling2D)   (None, 8, 8, 128)         0         \n",
      "_________________________________________________________________\n",
      "block3_conv1 (Conv2D)        (None, 8, 8, 256)         295168    \n",
      "_________________________________________________________________\n",
      "block3_conv2 (Conv2D)        (None, 8, 8, 256)         590080    \n",
      "_________________________________________________________________\n",
      "block3_conv3 (Conv2D)        (None, 8, 8, 256)         590080    \n",
      "_________________________________________________________________\n",
      "block3_conv4 (Conv2D)        (None, 8, 8, 256)         590080    \n",
      "_________________________________________________________________\n",
      "block3_pool (MaxPooling2D)   (None, 4, 4, 256)         0         \n",
      "_________________________________________________________________\n",
      "block4_conv1 (Conv2D)        (None, 4, 4, 512)         1180160   \n",
      "_________________________________________________________________\n",
      "block4_conv2 (Conv2D)        (None, 4, 4, 512)         2359808   \n",
      "_________________________________________________________________\n",
      "block4_conv3 (Conv2D)        (None, 4, 4, 512)         2359808   \n",
      "_________________________________________________________________\n",
      "block4_conv4 (Conv2D)        (None, 4, 4, 512)         2359808   \n",
      "_________________________________________________________________\n",
      "block4_pool (MaxPooling2D)   (None, 2, 2, 512)         0         \n",
      "_________________________________________________________________\n",
      "block5_conv1 (Conv2D)        (None, 2, 2, 512)         2359808   \n",
      "_________________________________________________________________\n",
      "block5_conv2 (Conv2D)        (None, 2, 2, 512)         2359808   \n",
      "_________________________________________________________________\n",
      "block5_conv3 (Conv2D)        (None, 2, 2, 512)         2359808   \n",
      "_________________________________________________________________\n",
      "block5_conv4 (Conv2D)        (None, 2, 2, 512)         2359808   \n",
      "_________________________________________________________________\n",
      "block5_pool (MaxPooling2D)   (None, 1, 1, 512)         0         \n",
      "=================================================================\n",
      "Total params: 20,024,384\n",
      "Trainable params: 20,024,384\n",
      "Non-trainable params: 0\n",
      "_________________________________________________________________\n"
     ]
    }
   ],
   "source": [
    "# define input shape\n",
    "INPUT_SHAPE = (32, 32, 3)\n",
    "\n",
    "# get the VGG19 model\n",
    "vgg_layers = tf.keras.applications.vgg19.VGG19(weights='imagenet', include_top=False, \n",
    "                                               input_shape=INPUT_SHAPE)\n",
    "\n",
    "vgg_layers.summary()"
   ]
  },
  {
   "cell_type": "markdown",
   "metadata": {
    "colab_type": "text",
    "id": "kxCorQL14mo8"
   },
   "source": [
    "### Set layers to trainable to enable fine-tuning"
   ]
  },
  {
   "cell_type": "code",
   "execution_count": null,
   "metadata": {
    "colab": {
     "base_uri": "https://localhost:8080/",
     "height": 386
    },
    "colab_type": "code",
    "id": "W1Aw1KUkCBUy",
    "outputId": "cdc1ec09-6988-433e-a398-e6866be89c7f"
   },
   "outputs": [
    {
     "name": "stdout",
     "output_type": "stream",
     "text": [
      "<tensorflow.python.keras.engine.input_layer.InputLayer object at 0x7f00c63b5e80> True\n",
      "<tensorflow.python.keras.layers.convolutional.Conv2D object at 0x7f00c63d0898> True\n",
      "<tensorflow.python.keras.layers.convolutional.Conv2D object at 0x7f00c6b25048> True\n",
      "<tensorflow.python.keras.layers.pooling.MaxPooling2D object at 0x7f00c6b25dd8> True\n",
      "<tensorflow.python.keras.layers.convolutional.Conv2D object at 0x7f00c63cccf8> True\n",
      "<tensorflow.python.keras.layers.convolutional.Conv2D object at 0x7f00c63c1470> True\n",
      "<tensorflow.python.keras.layers.pooling.MaxPooling2D object at 0x7f00c5f2c748> True\n",
      "<tensorflow.python.keras.layers.convolutional.Conv2D object at 0x7f00c5f2cc50> True\n",
      "<tensorflow.python.keras.layers.convolutional.Conv2D object at 0x7f00c571fac8> True\n",
      "<tensorflow.python.keras.layers.convolutional.Conv2D object at 0x7f00c571fb70> True\n",
      "<tensorflow.python.keras.layers.convolutional.Conv2D object at 0x7f00c57257b8> True\n",
      "<tensorflow.python.keras.layers.pooling.MaxPooling2D object at 0x7f00b063f6a0> True\n",
      "<tensorflow.python.keras.layers.convolutional.Conv2D object at 0x7f00b063fe80> True\n",
      "<tensorflow.python.keras.layers.convolutional.Conv2D object at 0x7f00b0648cf8> True\n",
      "<tensorflow.python.keras.layers.convolutional.Conv2D object at 0x7f00b06489b0> True\n",
      "<tensorflow.python.keras.layers.convolutional.Conv2D object at 0x7f00b064c9e8> True\n",
      "<tensorflow.python.keras.layers.pooling.MaxPooling2D object at 0x7f00b06548d0> True\n",
      "<tensorflow.python.keras.layers.convolutional.Conv2D object at 0x7f00b065d0f0> True\n",
      "<tensorflow.python.keras.layers.convolutional.Conv2D object at 0x7f00b065df28> True\n",
      "<tensorflow.python.keras.layers.convolutional.Conv2D object at 0x7f00b0660320> True\n",
      "<tensorflow.python.keras.layers.convolutional.Conv2D object at 0x7f00b0660c18> True\n",
      "<tensorflow.python.keras.layers.pooling.MaxPooling2D object at 0x7f00b06707f0> True\n"
     ]
    }
   ],
   "source": [
    "# Fine-tune all the layers\n",
    "for layer in vgg_layers.layers:\n",
    "    layer.trainable = True\n",
    "\n",
    "# Check the trainable status of the individual layers\n",
    "for layer in vgg_layers.layers:\n",
    "    print(layer, layer.trainable)"
   ]
  },
  {
   "cell_type": "markdown",
   "metadata": {
    "colab_type": "text",
    "id": "TBXVsTvx4pUi"
   },
   "source": [
    "### Build CNN model on top of VGG19"
   ]
  },
  {
   "cell_type": "code",
   "execution_count": null,
   "metadata": {
    "colab": {
     "base_uri": "https://localhost:8080/",
     "height": 386
    },
    "colab_type": "code",
    "id": "osZnOlkSCEuC",
    "outputId": "d004ff4e-1d9e-4b42-9ddc-54a25ec2607e"
   },
   "outputs": [
    {
     "name": "stdout",
     "output_type": "stream",
     "text": [
      "Model: \"sequential\"\n",
      "_________________________________________________________________\n",
      "Layer (type)                 Output Shape              Param #   \n",
      "=================================================================\n",
      "vgg19 (Functional)           (None, 1, 1, 512)         20024384  \n",
      "_________________________________________________________________\n",
      "flatten (Flatten)            (None, 512)               0         \n",
      "_________________________________________________________________\n",
      "dense (Dense)                (None, 256)               131328    \n",
      "_________________________________________________________________\n",
      "dropout (Dropout)            (None, 256)               0         \n",
      "_________________________________________________________________\n",
      "dense_1 (Dense)              (None, 256)               65792     \n",
      "_________________________________________________________________\n",
      "dropout_1 (Dropout)          (None, 256)               0         \n",
      "_________________________________________________________________\n",
      "dense_2 (Dense)              (None, 10)                2570      \n",
      "=================================================================\n",
      "Total params: 20,224,074\n",
      "Trainable params: 20,224,074\n",
      "Non-trainable params: 0\n",
      "_________________________________________________________________\n"
     ]
    }
   ],
   "source": [
    "# define sequential model\n",
    "model = tf.keras.models.Sequential()\n",
    "\n",
    "# Add the vgg convolutional base model\n",
    "model.add(vgg_layers)\n",
    "\n",
    "# add flatten layer\n",
    "model.add(tf.keras.layers.Flatten())\n",
    "\n",
    "# add dense layers with some dropout\n",
    "model.add(tf.keras.layers.Dense(256, activation='relu'))\n",
    "model.add(tf.keras.layers.Dropout(rate=0.3))\n",
    "model.add(tf.keras.layers.Dense(256, activation='relu'))\n",
    "model.add(tf.keras.layers.Dropout(rate=0.3))\n",
    "\n",
    "# add output layer\n",
    "model.add(tf.keras.layers.Dense(10, activation='softmax'))\n",
    "\n",
    "# compile model\n",
    "model.compile(optimizer=tf.keras.optimizers.Adam(learning_rate=2e-5), \n",
    "              loss='sparse_categorical_crossentropy', \n",
    "              metrics=['accuracy'])\n",
    "\n",
    "# view model layers\n",
    "model.summary()"
   ]
  },
  {
   "cell_type": "markdown",
   "metadata": {
    "colab_type": "text",
    "id": "iFH_dNmG4qvJ"
   },
   "source": [
    "## Train CNN Model"
   ]
  },
  {
   "cell_type": "code",
   "execution_count": null,
   "metadata": {
    "colab": {
     "base_uri": "https://localhost:8080/",
     "height": 454
    },
    "colab_type": "code",
    "id": "YAp2GuDPCkIg",
    "outputId": "5b570ffb-4eae-4ad9-cebc-78b81e6385ce"
   },
   "outputs": [
    {
     "name": "stdout",
     "output_type": "stream",
     "text": [
      "Epoch 1/100\n",
      "1688/1688 [==============================] - 24s 14ms/step - loss: 0.5223 - accuracy: 0.8227 - val_loss: 0.3233 - val_accuracy: 0.8840\n",
      "Epoch 2/100\n",
      "1688/1688 [==============================] - 24s 14ms/step - loss: 0.3133 - accuracy: 0.8947 - val_loss: 0.2688 - val_accuracy: 0.9045\n",
      "Epoch 3/100\n",
      "1688/1688 [==============================] - 24s 14ms/step - loss: 0.2634 - accuracy: 0.9104 - val_loss: 0.2428 - val_accuracy: 0.9130\n",
      "Epoch 4/100\n",
      "1688/1688 [==============================] - 24s 14ms/step - loss: 0.2284 - accuracy: 0.9227 - val_loss: 0.2331 - val_accuracy: 0.9200\n",
      "Epoch 5/100\n",
      "1688/1688 [==============================] - 24s 14ms/step - loss: 0.2027 - accuracy: 0.9304 - val_loss: 0.2184 - val_accuracy: 0.9200\n",
      "Epoch 6/100\n",
      "1688/1688 [==============================] - 24s 14ms/step - loss: 0.1801 - accuracy: 0.9373 - val_loss: 0.2153 - val_accuracy: 0.9260\n",
      "Epoch 7/100\n",
      "1688/1688 [==============================] - 24s 14ms/step - loss: 0.1605 - accuracy: 0.9444 - val_loss: 0.2106 - val_accuracy: 0.9283\n",
      "Epoch 8/100\n",
      "1688/1688 [==============================] - 24s 14ms/step - loss: 0.1418 - accuracy: 0.9514 - val_loss: 0.2237 - val_accuracy: 0.9270\n",
      "Epoch 9/100\n",
      "1688/1688 [==============================] - 24s 14ms/step - loss: 0.1261 - accuracy: 0.9564 - val_loss: 0.2072 - val_accuracy: 0.9277\n",
      "Epoch 10/100\n",
      "1688/1688 [==============================] - 24s 14ms/step - loss: 0.1099 - accuracy: 0.9624 - val_loss: 0.2071 - val_accuracy: 0.9303\n",
      "Epoch 11/100\n",
      "1688/1688 [==============================] - 24s 14ms/step - loss: 0.0962 - accuracy: 0.9654 - val_loss: 0.2163 - val_accuracy: 0.9355\n",
      "Epoch 12/100\n",
      "1685/1688 [============================>.] - ETA: 0s - loss: 0.0813 - accuracy: 0.9722Restoring model weights from the end of the best epoch.\n",
      "1688/1688 [==============================] - 24s 14ms/step - loss: 0.0813 - accuracy: 0.9722 - val_loss: 0.2307 - val_accuracy: 0.9288\n",
      "Epoch 00012: early stopping\n"
     ]
    }
   ],
   "source": [
    "EPOCHS = 100\n",
    "train_images_3ch_scaled = train_images_3ch / 255.\n",
    "es_callback = tf.keras.callbacks.EarlyStopping(monitor='val_loss', patience=2, \n",
    "                                               restore_best_weights=True,\n",
    "                                               verbose=1)\n",
    "\n",
    "history = model.fit(train_images_3ch_scaled, train_labels,\n",
    "                    batch_size=32,\n",
    "                    callbacks=[es_callback], \n",
    "                    validation_split=0.1, epochs=EPOCHS,\n",
    "                    verbose=1)"
   ]
  },
  {
   "cell_type": "markdown",
   "metadata": {
    "colab_type": "text",
    "id": "RvSWc4CN43Rd"
   },
   "source": [
    "## Plot Learning Curves"
   ]
  },
  {
   "cell_type": "code",
   "execution_count": null,
   "metadata": {
    "colab": {
     "base_uri": "https://localhost:8080/",
     "height": 265
    },
    "colab_type": "code",
    "id": "lKbd8QntCo3c",
    "outputId": "15965a8f-b446-4e83-dc3c-37a5ae43082e"
   },
   "outputs": [
    {
     "data": {
      "image/png": "[encoded data removed]",
      "text/plain": [
       "<Figure size 720x288 with 2 Axes>"
      ]
     },
     "metadata": {
      "needs_background": "light",
      "tags": []
     },
     "output_type": "display_data"
    }
   ],
   "source": [
    "import pandas as pd\n",
    "\n",
    "fig, ax = plt.subplots(1, 2, figsize=(10, 4))\n",
    "\n",
    "history_df = pd.DataFrame(history.history)\n",
    "history_df[['loss', 'val_loss']].plot(kind='line', ax=ax[0])\n",
    "history_df[['accuracy', 'val_accuracy']].plot(kind='line', ax=ax[1]);"
   ]
  },
  {
   "cell_type": "markdown",
   "metadata": {
    "colab_type": "text",
    "id": "Z-j1rfSu45eT"
   },
   "source": [
    "## Evaluate Model Performance on Organic Test Data\n",
    "\n",
    "Here we check the performance of our pre-trained CNN model on the organic test data (without introducing any perturbations)"
   ]
  },
  {
   "cell_type": "code",
   "execution_count": null,
   "metadata": {
    "colab": {
     "base_uri": "https://localhost:8080/",
     "height": 269
    },
    "colab_type": "code",
    "id": "VRZHrV_IDtlB",
    "outputId": "36b81461-dd77-45bb-8765-f8b0e0708cc7"
   },
   "outputs": [
    {
     "data": {
      "text/plain": [
       "array([[1.0841919e-12, 2.3725949e-13, 6.3569211e-12, 3.0922140e-11,\n",
       "        6.9134802e-12, 7.1203310e-10, 1.9042132e-09, 3.9691997e-08,\n",
       "        5.0883388e-11, 1.0000000e+00],\n",
       "       [3.8565532e-04, 1.5553587e-06, 9.9661320e-01, 8.8698562e-06,\n",
       "        5.2348005e-05, 1.9828808e-06, 2.9248777e-03, 2.4107264e-06,\n",
       "        7.9030197e-06, 1.0949828e-06],\n",
       "       [9.2207880e-11, 1.0000000e+00, 3.5517179e-11, 1.1541318e-08,\n",
       "        1.4846272e-09, 3.1797946e-11, 1.3350257e-10, 1.3592708e-10,\n",
       "        1.2579396e-11, 2.9994271e-11],\n",
       "       [1.2546672e-08, 9.9999905e-01, 7.1339761e-09, 6.5725283e-07,\n",
       "        1.4331597e-07, 5.6554650e-09, 2.1105588e-08, 2.0732651e-08,\n",
       "        3.2350234e-09, 5.7435834e-09],\n",
       "       [3.9946693e-01, 8.0975675e-04, 6.9954349e-03, 4.0227566e-03,\n",
       "        2.0264704e-03, 1.9688052e-04, 5.8448911e-01, 3.2764795e-04,\n",
       "        1.2621520e-03, 4.0293642e-04]], dtype=float32)"
      ]
     },
     "execution_count": 12,
     "metadata": {
      "tags": []
     },
     "output_type": "execute_result"
    }
   ],
   "source": [
    "test_images_3ch_scaled = test_images_3ch / 255.\n",
    "predictions = model.predict(test_images_3ch_scaled)\n",
    "predictions[:5]"
   ]
  },
  {
   "cell_type": "code",
   "execution_count": null,
   "metadata": {
    "colab": {
     "base_uri": "https://localhost:8080/",
     "height": 34
    },
    "colab_type": "code",
    "id": "Tf3eqduADvqO",
    "outputId": "5391ba0b-7b34-4bb4-c5c0-2c88b74ac254"
   },
   "outputs": [
    {
     "data": {
      "text/plain": [
       "array([9, 2, 1, 1, 6])"
      ]
     },
     "execution_count": 13,
     "metadata": {
      "tags": []
     },
     "output_type": "execute_result"
    }
   ],
   "source": [
    "prediction_labels = np.argmax(predictions, axis=1)\n",
    "prediction_labels[:5]"
   ]
  },
  {
   "cell_type": "code",
   "execution_count": null,
   "metadata": {
    "colab": {
     "base_uri": "https://localhost:8080/",
     "height": 629
    },
    "colab_type": "code",
    "id": "8G9ZUwAvDyWF",
    "outputId": "1aa7dec3-e082-4911-bd4a-e83e9ea95a31"
   },
   "outputs": [
    {
     "name": "stdout",
     "output_type": "stream",
     "text": [
      "              precision    recall  f1-score   support\n",
      "\n",
      " T-shirt/top       0.86      0.90      0.88      1000\n",
      "     Trouser       0.99      0.99      0.99      1000\n",
      "    Pullover       0.87      0.92      0.89      1000\n",
      "       Dress       0.95      0.91      0.93      1000\n",
      "        Coat       0.84      0.93      0.88      1000\n",
      "      Sandal       0.99      0.99      0.99      1000\n",
      "       Shirt       0.84      0.69      0.76      1000\n",
      "     Sneaker       0.98      0.95      0.97      1000\n",
      "         Bag       0.96      0.99      0.98      1000\n",
      "  Ankle boot       0.96      0.98      0.97      1000\n",
      "\n",
      "    accuracy                           0.92     10000\n",
      "   macro avg       0.92      0.92      0.92     10000\n",
      "weighted avg       0.92      0.92      0.92     10000\n",
      "\n"
     ]
    },
    {
     "data": {
      "text/html": [
       "<div>\n",
       "<style scoped>\n",
       "    .dataframe tbody tr th:only-of-type {\n",
       "        vertical-align: middle;\n",
       "    }\n",
       "\n",
       "    .dataframe tbody tr th {\n",
       "        vertical-align: top;\n",
       "    }\n",
       "\n",
       "    .dataframe thead th {\n",
       "        text-align: right;\n",
       "    }\n",
       "</style>\n",
       "<table border=\"1\" class=\"dataframe\">\n",
       "  <thead>\n",
       "    <tr style=\"text-align: right;\">\n",
       "      <th></th>\n",
       "      <th>T-shirt/top</th>\n",
       "      <th>Trouser</th>\n",
       "      <th>Pullover</th>\n",
       "      <th>Dress</th>\n",
       "      <th>Coat</th>\n",
       "      <th>Sandal</th>\n",
       "      <th>Shirt</th>\n",
       "      <th>Sneaker</th>\n",
       "      <th>Bag</th>\n",
       "      <th>Ankle boot</th>\n",
       "    </tr>\n",
       "  </thead>\n",
       "  <tbody>\n",
       "    <tr>\n",
       "      <th>T-shirt/top</th>\n",
       "      <td>895</td>\n",
       "      <td>1</td>\n",
       "      <td>25</td>\n",
       "      <td>8</td>\n",
       "      <td>0</td>\n",
       "      <td>0</td>\n",
       "      <td>55</td>\n",
       "      <td>0</td>\n",
       "      <td>16</td>\n",
       "      <td>0</td>\n",
       "    </tr>\n",
       "    <tr>\n",
       "      <th>Trouser</th>\n",
       "      <td>0</td>\n",
       "      <td>989</td>\n",
       "      <td>1</td>\n",
       "      <td>5</td>\n",
       "      <td>0</td>\n",
       "      <td>0</td>\n",
       "      <td>3</td>\n",
       "      <td>0</td>\n",
       "      <td>2</td>\n",
       "      <td>0</td>\n",
       "    </tr>\n",
       "    <tr>\n",
       "      <th>Pullover</th>\n",
       "      <td>11</td>\n",
       "      <td>1</td>\n",
       "      <td>918</td>\n",
       "      <td>6</td>\n",
       "      <td>35</td>\n",
       "      <td>0</td>\n",
       "      <td>28</td>\n",
       "      <td>0</td>\n",
       "      <td>1</td>\n",
       "      <td>0</td>\n",
       "    </tr>\n",
       "    <tr>\n",
       "      <th>Dress</th>\n",
       "      <td>15</td>\n",
       "      <td>3</td>\n",
       "      <td>12</td>\n",
       "      <td>906</td>\n",
       "      <td>37</td>\n",
       "      <td>0</td>\n",
       "      <td>23</td>\n",
       "      <td>0</td>\n",
       "      <td>3</td>\n",
       "      <td>1</td>\n",
       "    </tr>\n",
       "    <tr>\n",
       "      <th>Coat</th>\n",
       "      <td>1</td>\n",
       "      <td>0</td>\n",
       "      <td>35</td>\n",
       "      <td>8</td>\n",
       "      <td>928</td>\n",
       "      <td>0</td>\n",
       "      <td>23</td>\n",
       "      <td>0</td>\n",
       "      <td>5</td>\n",
       "      <td>0</td>\n",
       "    </tr>\n",
       "    <tr>\n",
       "      <th>Sandal</th>\n",
       "      <td>0</td>\n",
       "      <td>0</td>\n",
       "      <td>0</td>\n",
       "      <td>0</td>\n",
       "      <td>0</td>\n",
       "      <td>990</td>\n",
       "      <td>0</td>\n",
       "      <td>8</td>\n",
       "      <td>0</td>\n",
       "      <td>2</td>\n",
       "    </tr>\n",
       "    <tr>\n",
       "      <th>Shirt</th>\n",
       "      <td>118</td>\n",
       "      <td>1</td>\n",
       "      <td>62</td>\n",
       "      <td>17</td>\n",
       "      <td>103</td>\n",
       "      <td>0</td>\n",
       "      <td>690</td>\n",
       "      <td>0</td>\n",
       "      <td>9</td>\n",
       "      <td>0</td>\n",
       "    </tr>\n",
       "    <tr>\n",
       "      <th>Sneaker</th>\n",
       "      <td>0</td>\n",
       "      <td>0</td>\n",
       "      <td>0</td>\n",
       "      <td>0</td>\n",
       "      <td>0</td>\n",
       "      <td>8</td>\n",
       "      <td>0</td>\n",
       "      <td>955</td>\n",
       "      <td>0</td>\n",
       "      <td>37</td>\n",
       "    </tr>\n",
       "    <tr>\n",
       "      <th>Bag</th>\n",
       "      <td>3</td>\n",
       "      <td>0</td>\n",
       "      <td>0</td>\n",
       "      <td>0</td>\n",
       "      <td>1</td>\n",
       "      <td>2</td>\n",
       "      <td>0</td>\n",
       "      <td>0</td>\n",
       "      <td>994</td>\n",
       "      <td>0</td>\n",
       "    </tr>\n",
       "    <tr>\n",
       "      <th>Ankle boot</th>\n",
       "      <td>0</td>\n",
       "      <td>0</td>\n",
       "      <td>0</td>\n",
       "      <td>0</td>\n",
       "      <td>0</td>\n",
       "      <td>4</td>\n",
       "      <td>0</td>\n",
       "      <td>15</td>\n",
       "      <td>1</td>\n",
       "      <td>980</td>\n",
       "    </tr>\n",
       "  </tbody>\n",
       "</table>\n",
       "</div>"
      ],
      "text/plain": [
       "             T-shirt/top  Trouser  Pullover  ...  Sneaker  Bag  Ankle boot\n",
       "T-shirt/top          895        1        25  ...        0   16           0\n",
       "Trouser                0      989         1  ...        0    2           0\n",
       "Pullover              11        1       918  ...        0    1           0\n",
       "Dress                 15        3        12  ...        0    3           1\n",
       "Coat                   1        0        35  ...        0    5           0\n",
       "Sandal                 0        0         0  ...        8    0           2\n",
       "Shirt                118        1        62  ...        0    9           0\n",
       "Sneaker                0        0         0  ...      955    0          37\n",
       "Bag                    3        0         0  ...        0  994           0\n",
       "Ankle boot             0        0         0  ...       15    1         980\n",
       "\n",
       "[10 rows x 10 columns]"
      ]
     },
     "execution_count": 14,
     "metadata": {
      "tags": []
     },
     "output_type": "execute_result"
    }
   ],
   "source": [
    "from sklearn.metrics import confusion_matrix, classification_report\n",
    "\n",
    "print(classification_report(test_labels, prediction_labels, target_names=class_names))\n",
    "pd.DataFrame(confusion_matrix(test_labels, prediction_labels), index=class_names, columns=class_names)"
   ]
  },
  {
   "cell_type": "markdown",
   "metadata": {
    "colab_type": "text",
    "id": "q6EQErUK49mH"
   },
   "source": [
    "# Adversarial Attacks with Fast Gradient Sign Method (FGSM)\n",
    "\n",
    "## What is an adversarial example?\n",
    "\n",
    "Adversarial examples are specialised inputs created with the purpose of confusing a neural network, resulting in the misclassification of a given input. These notorious inputs are indistinguishable to the human eye, but cause the network to fail to identify the contents of the image. There are several types of such attacks, however, here the focus is on the fast gradient sign method attack, which is a *white box* attack whose goal is to ensure misclassification. A white box attack is where the attacker has complete access to the model being attacked. One of the most famous examples of an adversarial image shown below is taken from the aforementioned paper.\n",
    "\n",
    "![Adversarial Example](https://i.imgur.com/FyYq2Q0.png)\n",
    "\n",
    "Here, starting with the image of a panda, the attacker adds small perturbations (distortions) to the original image, which results in the model labelling this image as a gibbon, with high confidence. The process of adding these perturbations is explained below.\n",
    "\n",
    "## Fast gradient sign method\n",
    "\n",
    "The fast gradient sign method works by using the gradients of the neural network to create an adversarial example. For an input image, the method uses the gradients of the loss with respect to the input image to create a new image that maximises the loss. This new image is called the adversarial image. This can be summarised using the following expression:\n",
    "$$adv\\_x = x + \\epsilon*\\text{sign}(\\nabla_xJ(\\theta, x, y))$$\n",
    "\n",
    "where \n",
    "\n",
    "*   adv_x : Adversarial image.\n",
    "*   x : Original input image.\n",
    "*   y : Original input label.\n",
    "*   $\\epsilon$ : Multiplier to ensure the perturbations are small.\n",
    "*   $\\theta$ : Model parameters.\n",
    "*   $J$ : Loss.\n",
    "\n",
    "An intriguing property here, is the fact that the gradients are taken with respect to the input image. This is done because the objective is to create an image that maximises the loss. \n",
    "\n",
    "A method to accomplish this is to find how much each pixel in the image contributes to the loss value, and add a perturbation accordingly. \n",
    "\n",
    "This works pretty fast because it is easy to find how each input pixel contributes to the loss by using the chain rule and finding the required gradients. \n",
    "\n",
    "Hence, the gradients are taken with respect to the image. In addition, since the model is no longer being trained (thus the gradient is not taken with respect to the trainable variables, i.e., the model parameters), and so the model parameters remain constant. The only goal is to fool an already trained model.\n",
    "\n",
    "So let's try and fool our pretrained VGG19 model."
   ]
  },
  {
   "cell_type": "markdown",
   "metadata": {
    "colab_type": "text",
    "id": "hvIozwLu5rV5"
   },
   "source": [
    "## Utility Functions for FGSM\n",
    "\n",
    "1. __`get_model_preds(...)`__: Helps in getting the top predicted class label and probability of an input image based on a specific trained CNN model\n",
    "\n",
    "2. __`generate_adverarial_pattern(...)`__: Helps in getting the gradients and the sign of the gradients w.r.t the input image and the trained CNN model\n",
    "\n",
    "3. __`perform_adversarial_attack_fgsm(...)`__: Create perturbations which will be used to distort the original image resulting in an adversarial image by adding epsilon to the gradient signs (can be added to gradients also) and then showcase model performance on the same"
   ]
  },
  {
   "cell_type": "code",
   "execution_count": null,
   "metadata": {
    "colab": {},
    "colab_type": "code",
    "id": "ecHH5CvIuas2"
   },
   "outputs": [],
   "source": [
    "def get_model_preds(input_image, class_names_map, model):\n",
    "        preds = model.predict(input_image)\n",
    "        top_idx = np.argsort(-preds)[0][0]\n",
    "        top_prob = -np.sort(-preds)[0][0]\n",
    "        top_class = np.array(class_names_map)[top_idx]\n",
    "        return top_class, top_prob\n",
    "\n",
    "\n",
    "def generate_adverarial_pattern(input_image, image_label_idx, model, loss_func):\n",
    "    with tf.GradientTape() as tape:\n",
    "        tape.watch(input_image)\n",
    "        prediction = model(input_image)\n",
    "        loss = loss_func(image_label_idx, prediction)\n",
    "    # Get the gradients of the loss w.r.t to the input image.\n",
    "    gradient = tape.gradient(loss, input_image)\n",
    "    # Get the sign of the gradients to create the perturbation\n",
    "    signed_grad = tf.sign(gradient)\n",
    "    return signed_grad\n",
    "\n",
    "\n",
    "def perform_adversarial_attack_fgsm(input_image, image_label_idx, cnn_model, class_names_map, loss_func, eps=0.01):\n",
    "    # basic image shaping\n",
    "    input_image = np.array([input_image])\n",
    "    tf_img = tf.convert_to_tensor(input_image)\n",
    "    # predict class before adversarial attack\n",
    "    ba_pred_class, ba_pred_prob = get_model_preds(tf_img, class_names_map, cnn_model)\n",
    "    # generate adversarial image\n",
    "    adv_pattern = generate_adverarial_pattern(tf_img, image_label_idx, model, loss_func)\n",
    "    clip_adv_pattern = tf.clip_by_value(adv_pattern, clip_value_min=0., clip_value_max=1.)\n",
    "\n",
    "    perturbed_img = tf_img + (eps * adv_pattern)\n",
    "    perturbed_img = tf.clip_by_value(perturbed_img, clip_value_min=0., clip_value_max=1.)\n",
    "    # predict class after adversarial attack\n",
    "    aa_pred_class, aa_pred_prob = get_model_preds(perturbed_img, class_names_map, cnn_model)\n",
    "\n",
    "    # visualize results\n",
    "    fig, ax = plt.subplots(1, 3, figsize=(15, 4))\n",
    "    ax[0].imshow(tf_img[0].numpy())\n",
    "    ax[0].set_title('Before Adversarial Attack\\nTrue:{}  Pred:{}  Prob:{:.3f}'.format(class_names_map[image_label_idx],\n",
    "                                                                                      ba_pred_class,\n",
    "                                                                                      round(ba_pred_prob, 3)))\n",
    "    \n",
    "    ax[1].imshow(clip_adv_pattern[0].numpy())\n",
    "    ax[1].set_title('Adverarial Pattern -  EPS:{}'.format(eps))\n",
    "    \n",
    "    ax[2].imshow(perturbed_img[0].numpy())\n",
    "    ax[2].set_title('After Adversarial Attack\\nTrue:{}  Pred:{}  Prob:{:.3f}'.format(class_names_map[image_label_idx],\n",
    "                                                                                     aa_pred_class,\n",
    "                                                                                     aa_pred_prob))"
   ]
  },
  {
   "cell_type": "markdown",
   "metadata": {
    "colab_type": "text",
    "id": "At3MM0C967Tv"
   },
   "source": [
    "## Get Loss Function for our problem\n",
    "\n",
    "We use Sparse Categorical Crossentropy here as we focus on a multi-class classification problem"
   ]
  },
  {
   "cell_type": "code",
   "execution_count": null,
   "metadata": {
    "colab": {},
    "colab_type": "code",
    "id": "Xxadfpn2jexV"
   },
   "outputs": [],
   "source": [
    "scc = tf.keras.losses.SparseCategoricalCrossentropy()"
   ]
  },
  {
   "cell_type": "markdown",
   "metadata": {
    "colab_type": "text",
    "id": "W2KeGFC96_n5"
   },
   "source": [
    "## Adversarial Attack Examples\n",
    "\n",
    "Here we look at a few examples of applying thte FGSM adversarial attack on sample apparel images and how it affects our model predictions."
   ]
  },
  {
   "cell_type": "code",
   "execution_count": null,
   "metadata": {
    "colab": {
     "base_uri": "https://localhost:8080/",
     "height": 296
    },
    "colab_type": "code",
    "id": "nnvwU1KJvIcc",
    "outputId": "24de8b7d-d2de-4a61-bbfe-facaf21c68a7"
   },
   "outputs": [
    {
     "data": {
      "image/png": "[encoded data removed]",
      "text/plain": [
       "<Figure size 1080x288 with 3 Axes>"
      ]
     },
     "metadata": {
      "needs_background": "light",
      "tags": []
     },
     "output_type": "display_data"
    }
   ],
   "source": [
    "sample_apparel_idx = 6\n",
    "sample_apparel_img =  test_images_3ch_scaled[sample_apparel_idx]\n",
    "sample_apparel_labelidx = test_labels[sample_apparel_idx]\n",
    "perform_adversarial_attack_fgsm(input_image=sample_apparel_img, \n",
    "                                image_label_idx=sample_apparel_labelidx, \n",
    "                                cnn_model=model, class_names_map=class_names,\n",
    "                                loss_func=scc, eps=0.05)"
   ]
  },
  {
   "cell_type": "code",
   "execution_count": null,
   "metadata": {
    "colab": {
     "base_uri": "https://localhost:8080/",
     "height": 296
    },
    "colab_type": "code",
    "id": "ubz5GhmjB_VG",
    "outputId": "ce7e91b9-e39a-425b-98cf-65a21c22778f"
   },
   "outputs": [
    {
     "data": {
      "image/png": "[encoded data removed]",
      "text/plain": [
       "<Figure size 1080x288 with 3 Axes>"
      ]
     },
     "metadata": {
      "needs_background": "light",
      "tags": []
     },
     "output_type": "display_data"
    }
   ],
   "source": [
    "sample_apparel_idx = 60\n",
    "sample_apparel_img =  test_images_3ch_scaled[sample_apparel_idx]\n",
    "sample_apparel_labelidx = test_labels[sample_apparel_idx]\n",
    "perform_adversarial_attack_fgsm(input_image=sample_apparel_img, \n",
    "                                image_label_idx=sample_apparel_labelidx, \n",
    "                                cnn_model=model, class_names_map=class_names,\n",
    "                                loss_func=scc, eps=0.08)"
   ]
  },
  {
   "cell_type": "code",
   "execution_count": null,
   "metadata": {
    "colab": {
     "base_uri": "https://localhost:8080/",
     "height": 296
    },
    "colab_type": "code",
    "id": "273SaMunCUfF",
    "outputId": "f0d93eba-e502-4063-cf9c-42144fdc79d9"
   },
   "outputs": [
    {
     "data": {
      "image/png": "[encoded data removed]",
      "text/plain": [
       "<Figure size 1080x288 with 3 Axes>"
      ]
     },
     "metadata": {
      "needs_background": "light",
      "tags": []
     },
     "output_type": "display_data"
    }
   ],
   "source": [
    "sample_apparel_idx = 560\n",
    "sample_apparel_img =  test_images_3ch_scaled[sample_apparel_idx]\n",
    "sample_apparel_labelidx = test_labels[sample_apparel_idx]\n",
    "perform_adversarial_attack_fgsm(input_image=sample_apparel_img, \n",
    "                                image_label_idx=sample_apparel_labelidx, \n",
    "                                cnn_model=model, class_names_map=class_names,\n",
    "                                loss_func=scc, eps=0.05)"
   ]
  },
  {
   "cell_type": "code",
   "execution_count": null,
   "metadata": {
    "colab": {
     "base_uri": "https://localhost:8080/",
     "height": 296
    },
    "colab_type": "code",
    "id": "K1eWaNaVXFCR",
    "outputId": "1d7c6a30-623e-49d8-bdb9-5797abebc9f2"
   },
   "outputs": [
    {
     "data": {
      "image/png": "[encoded data removed]",
      "text/plain": [
       "<Figure size 1080x288 with 3 Axes>"
      ]
     },
     "metadata": {
      "needs_background": "light",
      "tags": []
     },
     "output_type": "display_data"
    }
   ],
   "source": [
    "sample_apparel_idx = 500\n",
    "sample_apparel_img =  test_images_3ch_scaled[sample_apparel_idx]\n",
    "sample_apparel_labelidx = test_labels[sample_apparel_idx]\n",
    "perform_adversarial_attack_fgsm(input_image=sample_apparel_img, \n",
    "                                image_label_idx=sample_apparel_labelidx, \n",
    "                                cnn_model=model, class_names_map=class_names,\n",
    "                                loss_func=scc, eps=0.05)"
   ]
  },
  {
   "cell_type": "code",
   "execution_count": null,
   "metadata": {
    "colab": {
     "base_uri": "https://localhost:8080/",
     "height": 296
    },
    "colab_type": "code",
    "id": "npbtRzBrj9dm",
    "outputId": "9ec1d1dd-ca32-45be-f8f4-439bec3b485e"
   },
   "outputs": [
    {
     "data": {
      "image/png": "[encoded data removed]",
      "text/plain": [
       "<Figure size 1080x288 with 3 Axes>"
      ]
     },
     "metadata": {
      "needs_background": "light",
      "tags": []
     },
     "output_type": "display_data"
    }
   ],
   "source": [
    "sample_apparel_idx = 34\n",
    "sample_apparel_img =  test_images_3ch_scaled[sample_apparel_idx]\n",
    "sample_apparel_labelidx = test_labels[sample_apparel_idx]\n",
    "perform_adversarial_attack_fgsm(input_image=sample_apparel_img, \n",
    "                                image_label_idx=sample_apparel_labelidx, \n",
    "                                cnn_model=model, class_names_map=class_names,\n",
    "                                loss_func=scc, eps=0.11)"
   ]
  },
  {
   "cell_type": "code",
   "execution_count": null,
   "metadata": {
    "colab": {
     "base_uri": "https://localhost:8080/",
     "height": 296
    },
    "colab_type": "code",
    "id": "70ORzEXskmGs",
    "outputId": "881c5204-9d33-4709-c5c5-7bdbd070a89b"
   },
   "outputs": [
    {
     "data": {
      "image/png": "[encoded data removed]",
      "text/plain": [
       "<Figure size 1080x288 with 3 Axes>"
      ]
     },
     "metadata": {
      "needs_background": "light",
      "tags": []
     },
     "output_type": "display_data"
    }
   ],
   "source": [
    "sample_apparel_idx = 8\n",
    "sample_apparel_img =  test_images_3ch_scaled[sample_apparel_idx]\n",
    "sample_apparel_labelidx = test_labels[sample_apparel_idx]\n",
    "perform_adversarial_attack_fgsm(input_image=sample_apparel_img, \n",
    "                                image_label_idx=sample_apparel_labelidx, \n",
    "                                cnn_model=model, class_names_map=class_names,\n",
    "                                loss_func=scc, eps=0.08)"
   ]
  },
  {
   "cell_type": "markdown",
   "metadata": {
    "colab_type": "text",
    "id": "0ZojtMft7LRd"
   },
   "source": [
    "## Generate Adversarial Attacks (FGSM) on Test Data to create Perturbed Test Dataset\n",
    "\n",
    "Here we create a helper function to help us create a perturbed dataset using a specific adversarial epsilon multiplier."
   ]
  },
  {
   "cell_type": "code",
   "execution_count": null,
   "metadata": {
    "colab": {},
    "colab_type": "code",
    "id": "-NvQb89fDv8D"
   },
   "outputs": [],
   "source": [
    "def generate_perturbed_images(input_images, image_label_idxs, model, loss_func, eps=0.01):\n",
    "    perturbed_images = []\n",
    "    # don't use list on large data - used just to view fancy progress-bar\n",
    "    for image, label in tqdm(list(zip(input_images, image_label_idxs))): \n",
    "        image = tf.convert_to_tensor(np.array([image]))\n",
    "        adv_pattern = generate_adverarial_pattern(image, label, model, loss_func)\n",
    "        perturbed_img = image + (eps * adv_pattern)\n",
    "        perturbed_img = tf.clip_by_value(perturbed_img, clip_value_min=0., clip_value_max=1.)[0]\n",
    "        perturbed_images.append(perturbed_img)\n",
    "\n",
    "    return tf.convert_to_tensor(perturbed_images)"
   ]
  },
  {
   "cell_type": "markdown",
   "metadata": {
    "colab_type": "text",
    "id": "X92mpBdV7Vl3"
   },
   "source": [
    "# VGG-19 CNN Base Model performance on Perturbed Test Dataset\n",
    "\n",
    "We generate a perturbed version of the test dataset using an epsilion multiplier of 0.05 and test the performance of our trained VGG19 CNN model."
   ]
  },
  {
   "cell_type": "code",
   "execution_count": null,
   "metadata": {
    "colab": {
     "base_uri": "https://localhost:8080/",
     "height": 34
    },
    "colab_type": "code",
    "id": "01KvCY1uE42D",
    "outputId": "9f4b6c5b-af9f-4cd6-fd00-cc54ff61deff"
   },
   "outputs": [
    {
     "name": "stderr",
     "output_type": "stream",
     "text": [
      "100%|██████████| 10000/10000 [03:02<00:00, 54.79it/s]\n"
     ]
    }
   ],
   "source": [
    "perturbed_test_imgs = generate_perturbed_images(input_images=test_images_3ch_scaled, \n",
    "                                                image_label_idxs=test_labels, model=model, \n",
    "                                                loss_func=scc, eps=0.05)"
   ]
  },
  {
   "cell_type": "markdown",
   "metadata": {},
   "source": [
    "#### Performance reduces by almost 50% here, bringing a powerful Imagenet winning model to its knees!"
   ]
  },
  {
   "cell_type": "code",
   "execution_count": null,
   "metadata": {
    "colab": {
     "base_uri": "https://localhost:8080/",
     "height": 629
    },
    "colab_type": "code",
    "id": "eZd_TB26FAG7",
    "outputId": "f2cb119f-1ac9-4c50-cd7f-6c076fb4cf9b"
   },
   "outputs": [
    {
     "name": "stdout",
     "output_type": "stream",
     "text": [
      "              precision    recall  f1-score   support\n",
      "\n",
      " T-shirt/top       0.27      0.18      0.22      1000\n",
      "     Trouser       0.97      0.84      0.90      1000\n",
      "    Pullover       0.08      0.05      0.06      1000\n",
      "       Dress       0.57      0.47      0.51      1000\n",
      "        Coat       0.18      0.19      0.19      1000\n",
      "      Sandal       0.78      0.67      0.72      1000\n",
      "       Shirt       0.03      0.04      0.03      1000\n",
      "     Sneaker       0.49      0.23      0.32      1000\n",
      "         Bag       0.83      0.93      0.88      1000\n",
      "  Ankle boot       0.51      0.84      0.64      1000\n",
      "\n",
      "    accuracy                           0.45     10000\n",
      "   macro avg       0.47      0.45      0.45     10000\n",
      "weighted avg       0.47      0.45      0.45     10000\n",
      "\n"
     ]
    },
    {
     "data": {
      "text/html": [
       "<div>\n",
       "<style scoped>\n",
       "    .dataframe tbody tr th:only-of-type {\n",
       "        vertical-align: middle;\n",
       "    }\n",
       "\n",
       "    .dataframe tbody tr th {\n",
       "        vertical-align: top;\n",
       "    }\n",
       "\n",
       "    .dataframe thead th {\n",
       "        text-align: right;\n",
       "    }\n",
       "</style>\n",
       "<table border=\"1\" class=\"dataframe\">\n",
       "  <thead>\n",
       "    <tr style=\"text-align: right;\">\n",
       "      <th></th>\n",
       "      <th>T-shirt/top</th>\n",
       "      <th>Trouser</th>\n",
       "      <th>Pullover</th>\n",
       "      <th>Dress</th>\n",
       "      <th>Coat</th>\n",
       "      <th>Sandal</th>\n",
       "      <th>Shirt</th>\n",
       "      <th>Sneaker</th>\n",
       "      <th>Bag</th>\n",
       "      <th>Ankle boot</th>\n",
       "    </tr>\n",
       "  </thead>\n",
       "  <tbody>\n",
       "    <tr>\n",
       "      <th>T-shirt/top</th>\n",
       "      <td>182</td>\n",
       "      <td>1</td>\n",
       "      <td>63</td>\n",
       "      <td>81</td>\n",
       "      <td>20</td>\n",
       "      <td>0</td>\n",
       "      <td>617</td>\n",
       "      <td>0</td>\n",
       "      <td>36</td>\n",
       "      <td>0</td>\n",
       "    </tr>\n",
       "    <tr>\n",
       "      <th>Trouser</th>\n",
       "      <td>14</td>\n",
       "      <td>845</td>\n",
       "      <td>9</td>\n",
       "      <td>91</td>\n",
       "      <td>7</td>\n",
       "      <td>0</td>\n",
       "      <td>25</td>\n",
       "      <td>0</td>\n",
       "      <td>7</td>\n",
       "      <td>2</td>\n",
       "    </tr>\n",
       "    <tr>\n",
       "      <th>Pullover</th>\n",
       "      <td>28</td>\n",
       "      <td>1</td>\n",
       "      <td>54</td>\n",
       "      <td>19</td>\n",
       "      <td>332</td>\n",
       "      <td>0</td>\n",
       "      <td>540</td>\n",
       "      <td>0</td>\n",
       "      <td>23</td>\n",
       "      <td>3</td>\n",
       "    </tr>\n",
       "    <tr>\n",
       "      <th>Dress</th>\n",
       "      <td>164</td>\n",
       "      <td>19</td>\n",
       "      <td>60</td>\n",
       "      <td>469</td>\n",
       "      <td>139</td>\n",
       "      <td>0</td>\n",
       "      <td>133</td>\n",
       "      <td>0</td>\n",
       "      <td>12</td>\n",
       "      <td>4</td>\n",
       "    </tr>\n",
       "    <tr>\n",
       "      <th>Coat</th>\n",
       "      <td>12</td>\n",
       "      <td>4</td>\n",
       "      <td>258</td>\n",
       "      <td>95</td>\n",
       "      <td>190</td>\n",
       "      <td>0</td>\n",
       "      <td>404</td>\n",
       "      <td>0</td>\n",
       "      <td>37</td>\n",
       "      <td>0</td>\n",
       "    </tr>\n",
       "    <tr>\n",
       "      <th>Sandal</th>\n",
       "      <td>4</td>\n",
       "      <td>0</td>\n",
       "      <td>3</td>\n",
       "      <td>1</td>\n",
       "      <td>0</td>\n",
       "      <td>666</td>\n",
       "      <td>7</td>\n",
       "      <td>166</td>\n",
       "      <td>22</td>\n",
       "      <td>131</td>\n",
       "    </tr>\n",
       "    <tr>\n",
       "      <th>Shirt</th>\n",
       "      <td>267</td>\n",
       "      <td>1</td>\n",
       "      <td>231</td>\n",
       "      <td>60</td>\n",
       "      <td>353</td>\n",
       "      <td>0</td>\n",
       "      <td>45</td>\n",
       "      <td>0</td>\n",
       "      <td>41</td>\n",
       "      <td>2</td>\n",
       "    </tr>\n",
       "    <tr>\n",
       "      <th>Sneaker</th>\n",
       "      <td>0</td>\n",
       "      <td>0</td>\n",
       "      <td>0</td>\n",
       "      <td>0</td>\n",
       "      <td>0</td>\n",
       "      <td>117</td>\n",
       "      <td>0</td>\n",
       "      <td>234</td>\n",
       "      <td>4</td>\n",
       "      <td>645</td>\n",
       "    </tr>\n",
       "    <tr>\n",
       "      <th>Bag</th>\n",
       "      <td>12</td>\n",
       "      <td>0</td>\n",
       "      <td>5</td>\n",
       "      <td>5</td>\n",
       "      <td>4</td>\n",
       "      <td>4</td>\n",
       "      <td>28</td>\n",
       "      <td>1</td>\n",
       "      <td>933</td>\n",
       "      <td>8</td>\n",
       "    </tr>\n",
       "    <tr>\n",
       "      <th>Ankle boot</th>\n",
       "      <td>0</td>\n",
       "      <td>0</td>\n",
       "      <td>0</td>\n",
       "      <td>3</td>\n",
       "      <td>0</td>\n",
       "      <td>71</td>\n",
       "      <td>0</td>\n",
       "      <td>80</td>\n",
       "      <td>5</td>\n",
       "      <td>841</td>\n",
       "    </tr>\n",
       "  </tbody>\n",
       "</table>\n",
       "</div>"
      ],
      "text/plain": [
       "             T-shirt/top  Trouser  Pullover  ...  Sneaker  Bag  Ankle boot\n",
       "T-shirt/top          182        1        63  ...        0   36           0\n",
       "Trouser               14      845         9  ...        0    7           2\n",
       "Pullover              28        1        54  ...        0   23           3\n",
       "Dress                164       19        60  ...        0   12           4\n",
       "Coat                  12        4       258  ...        0   37           0\n",
       "Sandal                 4        0         3  ...      166   22         131\n",
       "Shirt                267        1       231  ...        0   41           2\n",
       "Sneaker                0        0         0  ...      234    4         645\n",
       "Bag                   12        0         5  ...        1  933           8\n",
       "Ankle boot             0        0         0  ...       80    5         841\n",
       "\n",
       "[10 rows x 10 columns]"
      ]
     },
     "execution_count": 69,
     "metadata": {
      "tags": []
     },
     "output_type": "execute_result"
    }
   ],
   "source": [
    "predictions = model.predict(perturbed_test_imgs)\n",
    "prediction_labels = np.argmax(predictions, axis=1)\n",
    "print(classification_report(test_labels, prediction_labels, target_names=class_names))\n",
    "pd.DataFrame(confusion_matrix(test_labels, prediction_labels), index=class_names, columns=class_names)"
   ]
  },
  {
   "cell_type": "markdown",
   "metadata": {
    "colab_type": "text",
    "id": "gjJpzCOO7f8O"
   },
   "source": [
    "# Adversarial Learning with Neural Structured Learning\n",
    "\n",
    "## Overview\n",
    "\n",
    "Neural Structured Learning (NSL) is a new learning paradigm to train neural networks by leveraging structured signals in addition to feature inputs. Structure can be explicit as represented by a graph or implicit as induced by adversarial perturbation.\n",
    "\n",
    "![](https://i.imgur.com/9uH5lof.png)\n",
    "\n",
    "Structured signals are commonly used to represent relations or similarity among samples that may be labeled or unlabeled. \n",
    "\n",
    "Therefore, leveraging these signals during neural network training harnesses both labeled and unlabeled data, which can improve model accuracy, particularly when the amount of labeled data is relatively small. \n",
    "\n",
    "Additionally, models trained with samples that are generated by adding adversarial perturbation have been shown to be robust against malicious attacks, which are designed to mislead a model's prediction or classification.\n",
    "\n",
    "## How Neural Structured Learning (NSL) Works\n",
    "\n",
    "In Neural Structured Learning (NSL), the structured signals─whether explicitly defined as a graph or implicitly learned as generated adversarial examples, are used to regularize the training of a neural network, forcing the model to learn accurate predictions (by minimizing supervised loss), while at the same time maintaining the similarity among inputs from the same structure (by minimizing the neighbor loss, see the figure below). \n",
    "\n",
    "![](https://i.imgur.com/8WIs9qx.png)\n",
    "\n",
    "This technique is generic and can be applied on arbitrary neural architectures, such as Feed-forward NNs, Convolutional NNs and Recurrent NNs.\n",
    "\n",
    "NSL provides APIs to “induce” adversarial examples as implicit structured signals. Adversarial examples are constructed to intentionally confuse the model一training with such examples usually results in models that are robust against small input perturbations. "
   ]
  },
  {
   "cell_type": "markdown",
   "metadata": {
    "colab_type": "text",
    "id": "SkAKUGxq9Wes"
   },
   "source": [
    "# Install NSL Dependency"
   ]
  },
  {
   "cell_type": "code",
   "execution_count": null,
   "metadata": {
    "colab": {
     "base_uri": "https://localhost:8080/",
     "height": 185
    },
    "colab_type": "code",
    "id": "bBobTSU1J3-O",
    "outputId": "512e5b78-cac8-4227-c76d-b3931a131587"
   },
   "outputs": [
    {
     "name": "stdout",
     "output_type": "stream",
     "text": [
      "Collecting neural-structured-learning\n",
      "\u001b[?25l  Downloading https://files.pythonhosted.org/packages/8a/23/179e6b7555000de51d9a317e9e47db84cda0180c941cfbf14775925af611/neural_structured_learning-1.3.1-py2.py3-none-any.whl (120kB)\n",
      "\r",
      "\u001b[K     |██▊                             | 10kB 21.1MB/s eta 0:00:01\r",
      "\u001b[K     |█████▍                          | 20kB 6.9MB/s eta 0:00:01\r",
      "\u001b[K     |████████▏                       | 30kB 7.8MB/s eta 0:00:01\r",
      "\u001b[K     |██████████▉                     | 40kB 8.0MB/s eta 0:00:01\r",
      "\u001b[K     |█████████████▋                  | 51kB 6.6MB/s eta 0:00:01\r",
      "\u001b[K     |████████████████▎               | 61kB 6.3MB/s eta 0:00:01\r",
      "\u001b[K     |███████████████████             | 71kB 6.3MB/s eta 0:00:01\r",
      "\u001b[K     |█████████████████████▊          | 81kB 6.7MB/s eta 0:00:01\r",
      "\u001b[K     |████████████████████████▌       | 92kB 6.4MB/s eta 0:00:01\r",
      "\u001b[K     |███████████████████████████▏    | 102kB 6.3MB/s eta 0:00:01\r",
      "\u001b[K     |██████████████████████████████  | 112kB 6.3MB/s eta 0:00:01\r",
      "\u001b[K     |████████████████████████████████| 122kB 6.3MB/s \n",
      "\u001b[?25hRequirement already satisfied: absl-py in /usr/local/lib/python3.6/dist-packages (from neural-structured-learning) (0.8.1)\n",
      "Requirement already satisfied: attrs in /usr/local/lib/python3.6/dist-packages (from neural-structured-learning) (20.1.0)\n",
      "Requirement already satisfied: six in /usr/local/lib/python3.6/dist-packages (from neural-structured-learning) (1.15.0)\n",
      "Requirement already satisfied: scipy in /usr/local/lib/python3.6/dist-packages (from neural-structured-learning) (1.4.1)\n",
      "Requirement already satisfied: numpy>=1.13.3 in /usr/local/lib/python3.6/dist-packages (from scipy->neural-structured-learning) (1.18.5)\n",
      "Installing collected packages: neural-structured-learning\n",
      "Successfully installed neural-structured-learning-1.3.1\n"
     ]
    }
   ],
   "source": [
    "!pip install neural-structured-learning"
   ]
  },
  {
   "cell_type": "code",
   "execution_count": null,
   "metadata": {
    "colab": {},
    "colab_type": "code",
    "id": "ZFSrRBf6Fdmr"
   },
   "outputs": [],
   "source": [
    "import neural_structured_learning as nsl"
   ]
  },
  {
   "cell_type": "markdown",
   "metadata": {
    "colab_type": "text",
    "id": "PTVVz5mH9aSH"
   },
   "source": [
    "# Adversarial Learning Configs\n",
    "\n",
    "*   **`adv_multiplier`**: The weight of adversarial loss in the training\n",
    "objective, relative to the labeled loss.\n",
    "*   **`adv_step_size`**: The magnitude of adversarial perturbation.\n",
    "*  **`adv_grad_norm`**: The norm to measure the magnitude of adversarial\n",
    "perturbation.\n",
    "\n",
    "Adversarial Neighbors are created leveraging the above config settings.\n",
    "\n",
    "__`adv_neighbor = input_features + adv_step_size * gradient`__ where __`adv_step_size`__ is the step size (analogous to learning rate) for searching/calculating adversarial neighbors."
   ]
  },
  {
   "cell_type": "code",
   "execution_count": null,
   "metadata": {
    "colab": {},
    "colab_type": "code",
    "id": "tp1xpfqAJ268"
   },
   "outputs": [],
   "source": [
    "adv_multiplier = 0.45\n",
    "adv_step_size = 0.95\n",
    "adv_grad_norm = 'l2'\n",
    "\n",
    "adversarial_config = nsl.configs.make_adv_reg_config(\n",
    "    multiplier=adv_multiplier,\n",
    "    adv_step_size=adv_step_size,\n",
    "    adv_grad_norm=adv_grad_norm\n",
    ")"
   ]
  },
  {
   "cell_type": "code",
   "execution_count": null,
   "metadata": {
    "colab": {
     "base_uri": "https://localhost:8080/",
     "height": 54
    },
    "colab_type": "code",
    "id": "mdNwNBdxLfPR",
    "outputId": "bb2cf14e-2e70-4406-dde9-d66b50a14d16"
   },
   "outputs": [
    {
     "data": {
      "text/plain": [
       "AdvRegConfig(multiplier=0.45, adv_neighbor_config=AdvNeighborConfig(feature_mask=None, adv_step_size=0.95, adv_grad_norm=<NormType.L2: 'l2'>, clip_value_min=None, clip_value_max=None, pgd_iterations=1, pgd_epsilon=None))"
      ]
     },
     "execution_count": 73,
     "metadata": {
      "tags": []
     },
     "output_type": "execute_result"
    }
   ],
   "source": [
    "adversarial_config"
   ]
  },
  {
   "cell_type": "markdown",
   "metadata": {},
   "source": [
    "#### Feel free to play around with the hyperparameters and observe model performance"
   ]
  },
  {
   "cell_type": "markdown",
   "metadata": {
    "colab_type": "text",
    "id": "PBLHRAW497OF"
   },
   "source": [
    "# Fine-tuning VGG-19 CNN Model with Adversarial Learning - Adversarial Model\n"
   ]
  },
  {
   "cell_type": "markdown",
   "metadata": {
    "colab_type": "text",
    "id": "nw01eSoU-BvZ"
   },
   "source": [
    "## Create Base Model Architecture"
   ]
  },
  {
   "cell_type": "code",
   "execution_count": null,
   "metadata": {
    "colab": {
     "base_uri": "https://localhost:8080/",
     "height": 386
    },
    "colab_type": "code",
    "id": "eCrYcNReOoS9",
    "outputId": "2727ab8e-31e1-44be-f5ed-70215458ec4e"
   },
   "outputs": [
    {
     "name": "stdout",
     "output_type": "stream",
     "text": [
      "<tensorflow.python.keras.engine.input_layer.InputLayer object at 0x7eff1e97ff98> True\n",
      "<tensorflow.python.keras.layers.convolutional.Conv2D object at 0x7eff1e97f6a0> True\n",
      "<tensorflow.python.keras.layers.convolutional.Conv2D object at 0x7eff17ad2dd8> True\n",
      "<tensorflow.python.keras.layers.pooling.MaxPooling2D object at 0x7eff17928d68> True\n",
      "<tensorflow.python.keras.layers.convolutional.Conv2D object at 0x7eff17927588> True\n",
      "<tensorflow.python.keras.layers.convolutional.Conv2D object at 0x7eff1792e400> True\n",
      "<tensorflow.python.keras.layers.pooling.MaxPooling2D object at 0x7eff1792e828> True\n",
      "<tensorflow.python.keras.layers.convolutional.Conv2D object at 0x7eff17933048> True\n",
      "<tensorflow.python.keras.layers.convolutional.Conv2D object at 0x7eff17933e80> True\n",
      "<tensorflow.python.keras.layers.convolutional.Conv2D object at 0x7eff17939208> True\n",
      "<tensorflow.python.keras.layers.convolutional.Conv2D object at 0x7eff17939b70> True\n",
      "<tensorflow.python.keras.layers.pooling.MaxPooling2D object at 0x7eff1793e748> True\n",
      "<tensorflow.python.keras.layers.convolutional.Conv2D object at 0x7eff17944278> True\n",
      "<tensorflow.python.keras.layers.convolutional.Conv2D object at 0x7eff17944e80> True\n",
      "<tensorflow.python.keras.layers.convolutional.Conv2D object at 0x7eff178ce518> True\n",
      "<tensorflow.python.keras.layers.convolutional.Conv2D object at 0x7eff178ced68> True\n",
      "<tensorflow.python.keras.layers.pooling.MaxPooling2D object at 0x7eff178d6978> True\n",
      "<tensorflow.python.keras.layers.convolutional.Conv2D object at 0x7eff178db4a8> True\n",
      "<tensorflow.python.keras.layers.convolutional.Conv2D object at 0x7eff178e2320> True\n",
      "<tensorflow.python.keras.layers.convolutional.Conv2D object at 0x7eff178e2748> True\n",
      "<tensorflow.python.keras.layers.convolutional.Conv2D object at 0x7eff178e82b0> True\n",
      "<tensorflow.python.keras.layers.pooling.MaxPooling2D object at 0x7eff178e8ba8> True\n"
     ]
    }
   ],
   "source": [
    "vgg_layers = tf.keras.applications.vgg19.VGG19(weights='imagenet', include_top=False, \n",
    "                                               input_shape=INPUT_SHAPE)\n",
    "\n",
    "# Fine-tune all the layers\n",
    "for layer in vgg_layers.layers:\n",
    "    layer.trainable = True\n",
    "\n",
    "# Check the trainable status of the individual layers\n",
    "for layer in vgg_layers.layers:\n",
    "    print(layer, layer.trainable)\n",
    "\n",
    "# define sequential model\n",
    "base_model = tf.keras.models.Sequential()\n",
    "\n",
    "# Add the vgg convolutional base model\n",
    "base_model.add(vgg_layers)\n",
    "\n",
    "# add flatten layer\n",
    "base_model.add(tf.keras.layers.Flatten())\n",
    "\n",
    "# add dense layers with some dropout\n",
    "base_model.add(tf.keras.layers.Dense(256, activation='relu'))\n",
    "base_model.add(tf.keras.layers.Dropout(rate=0.3))\n",
    "base_model.add(tf.keras.layers.Dense(256, activation='relu'))\n",
    "base_model.add(tf.keras.layers.Dropout(rate=0.3))\n",
    "\n",
    "# add output layer\n",
    "base_model.add(tf.keras.layers.Dense(10, activation='softmax'))"
   ]
  },
  {
   "cell_type": "markdown",
   "metadata": {
    "colab_type": "text",
    "id": "xGAbFJWt-EdQ"
   },
   "source": [
    "## Setup Adversarial Model with Adversarial Regularization on Base Model"
   ]
  },
  {
   "cell_type": "code",
   "execution_count": null,
   "metadata": {
    "colab": {},
    "colab_type": "code",
    "id": "QNeQkOwnLgUM"
   },
   "outputs": [],
   "source": [
    "adv_model = nsl.keras.AdversarialRegularization(\n",
    "    base_model,\n",
    "    label_keys=['label'],\n",
    "    adv_config=adversarial_config\n",
    ")"
   ]
  },
  {
   "cell_type": "code",
   "execution_count": null,
   "metadata": {
    "colab": {},
    "colab_type": "code",
    "id": "EI3kU0ZJMFur"
   },
   "outputs": [],
   "source": [
    "adv_model.compile(optimizer=tf.keras.optimizers.Adam(learning_rate=2e-5), \n",
    "              loss='sparse_categorical_crossentropy', \n",
    "              metrics=['accuracy'])"
   ]
  },
  {
   "cell_type": "markdown",
   "metadata": {
    "colab_type": "text",
    "id": "V1DhRPVc-Lnv"
   },
   "source": [
    "## Format Training \\ Validation data into TF Datasets"
   ]
  },
  {
   "cell_type": "code",
   "execution_count": null,
   "metadata": {
    "colab": {},
    "colab_type": "code",
    "id": "0ZNxIiNcPaGm"
   },
   "outputs": [],
   "source": [
    "from sklearn.model_selection import train_test_split\n",
    "\n",
    "X_train, X_val, y_train, y_val = train_test_split(train_images_3ch_scaled, train_labels, test_size=0.1, random_state=42)\n",
    "batch_size = 256\n",
    "\n",
    "train_data = tf.data.Dataset.from_tensor_slices(\n",
    "    {'input': X_train, \n",
    "     'label': tf.convert_to_tensor(y_train, dtype='float32')}).batch(batch_size)\n",
    "\n",
    "val_data = tf.data.Dataset.from_tensor_slices(\n",
    "    {'input': X_val, \n",
    "     'label': tf.convert_to_tensor(y_val, dtype='float32')}).batch(batch_size)\n",
    "\n",
    "\n",
    "val_steps = X_val.shape[0] / batch_size"
   ]
  },
  {
   "cell_type": "markdown",
   "metadata": {
    "colab_type": "text",
    "id": "U58BFzps-Qxy"
   },
   "source": [
    "## Train Model"
   ]
  },
  {
   "cell_type": "code",
   "execution_count": null,
   "metadata": {
    "colab": {
     "base_uri": "https://localhost:8080/",
     "height": 490
    },
    "colab_type": "code",
    "id": "8UFG2YmEMKSD",
    "outputId": "6ad9a495-5f8f-4c1b-f623-2e4dabc84590"
   },
   "outputs": [
    {
     "name": "stdout",
     "output_type": "stream",
     "text": [
      "Epoch 1/100\n",
      "211/211 [==============================] - 16s 75ms/step - loss: 1.2341 - sparse_categorical_crossentropy: 0.7389 - sparse_categorical_accuracy: 0.7434 - scaled_adversarial_loss: 0.4952 - val_loss: 0.7493 - val_sparse_categorical_crossentropy: 0.3898 - val_sparse_categorical_accuracy: 0.8635 - val_scaled_adversarial_loss: 0.3595\n",
      "Epoch 2/100\n",
      "211/211 [==============================] - 15s 71ms/step - loss: 0.7501 - sparse_categorical_crossentropy: 0.4049 - sparse_categorical_accuracy: 0.8588 - scaled_adversarial_loss: 0.3452 - val_loss: 0.6585 - val_sparse_categorical_crossentropy: 0.3350 - val_sparse_categorical_accuracy: 0.8798 - val_scaled_adversarial_loss: 0.3235\n",
      "Epoch 3/100\n",
      "211/211 [==============================] - 15s 72ms/step - loss: 0.6583 - sparse_categorical_crossentropy: 0.3508 - sparse_categorical_accuracy: 0.8779 - scaled_adversarial_loss: 0.3075 - val_loss: 0.5978 - val_sparse_categorical_crossentropy: 0.3019 - val_sparse_categorical_accuracy: 0.8887 - val_scaled_adversarial_loss: 0.2959\n",
      "Epoch 4/100\n",
      "211/211 [==============================] - 15s 71ms/step - loss: 0.6072 - sparse_categorical_crossentropy: 0.3186 - sparse_categorical_accuracy: 0.8876 - scaled_adversarial_loss: 0.2886 - val_loss: 0.5721 - val_sparse_categorical_crossentropy: 0.2874 - val_sparse_categorical_accuracy: 0.8938 - val_scaled_adversarial_loss: 0.2847\n",
      "Epoch 5/100\n",
      "211/211 [==============================] - 15s 71ms/step - loss: 0.5711 - sparse_categorical_crossentropy: 0.2971 - sparse_categorical_accuracy: 0.8960 - scaled_adversarial_loss: 0.2740 - val_loss: 0.5530 - val_sparse_categorical_crossentropy: 0.2787 - val_sparse_categorical_accuracy: 0.9005 - val_scaled_adversarial_loss: 0.2743\n",
      "Epoch 6/100\n",
      "211/211 [==============================] - 15s 71ms/step - loss: 0.5386 - sparse_categorical_crossentropy: 0.2770 - sparse_categorical_accuracy: 0.9023 - scaled_adversarial_loss: 0.2616 - val_loss: 0.5352 - val_sparse_categorical_crossentropy: 0.2696 - val_sparse_categorical_accuracy: 0.9035 - val_scaled_adversarial_loss: 0.2657\n",
      "Epoch 7/100\n",
      "211/211 [==============================] - 15s 70ms/step - loss: 0.5133 - sparse_categorical_crossentropy: 0.2618 - sparse_categorical_accuracy: 0.9073 - scaled_adversarial_loss: 0.2515 - val_loss: 0.5185 - val_sparse_categorical_crossentropy: 0.2548 - val_sparse_categorical_accuracy: 0.9068 - val_scaled_adversarial_loss: 0.2638\n",
      "Epoch 8/100\n",
      "211/211 [==============================] - 15s 71ms/step - loss: 0.4916 - sparse_categorical_crossentropy: 0.2494 - sparse_categorical_accuracy: 0.9107 - scaled_adversarial_loss: 0.2423 - val_loss: 0.5049 - val_sparse_categorical_crossentropy: 0.2492 - val_sparse_categorical_accuracy: 0.9113 - val_scaled_adversarial_loss: 0.2557\n",
      "Epoch 9/100\n",
      "211/211 [==============================] - 15s 71ms/step - loss: 0.4733 - sparse_categorical_crossentropy: 0.2370 - sparse_categorical_accuracy: 0.9157 - scaled_adversarial_loss: 0.2362 - val_loss: 0.4956 - val_sparse_categorical_crossentropy: 0.2455 - val_sparse_categorical_accuracy: 0.9113 - val_scaled_adversarial_loss: 0.2501\n",
      "Epoch 10/100\n",
      "211/211 [==============================] - 15s 71ms/step - loss: 0.4567 - sparse_categorical_crossentropy: 0.2282 - sparse_categorical_accuracy: 0.9172 - scaled_adversarial_loss: 0.2285 - val_loss: 0.4899 - val_sparse_categorical_crossentropy: 0.2406 - val_sparse_categorical_accuracy: 0.9125 - val_scaled_adversarial_loss: 0.2493\n",
      "Epoch 11/100\n",
      "211/211 [==============================] - 15s 71ms/step - loss: 0.4379 - sparse_categorical_crossentropy: 0.2163 - sparse_categorical_accuracy: 0.9241 - scaled_adversarial_loss: 0.2217 - val_loss: 0.4827 - val_sparse_categorical_crossentropy: 0.2335 - val_sparse_categorical_accuracy: 0.9143 - val_scaled_adversarial_loss: 0.2492\n",
      "Epoch 12/100\n",
      "211/211 [==============================] - 15s 71ms/step - loss: 0.4251 - sparse_categorical_crossentropy: 0.2090 - sparse_categorical_accuracy: 0.9250 - scaled_adversarial_loss: 0.2162 - val_loss: 0.4844 - val_sparse_categorical_crossentropy: 0.2345 - val_sparse_categorical_accuracy: 0.9148 - val_scaled_adversarial_loss: 0.2498\n",
      "Epoch 13/100\n",
      "211/211 [==============================] - 15s 71ms/step - loss: 0.4085 - sparse_categorical_crossentropy: 0.1975 - sparse_categorical_accuracy: 0.9291 - scaled_adversarial_loss: 0.2109 - val_loss: 0.4851 - val_sparse_categorical_crossentropy: 0.2334 - val_sparse_categorical_accuracy: 0.9157 - val_scaled_adversarial_loss: 0.2516\n",
      "Epoch 00013: early stopping\n"
     ]
    }
   ],
   "source": [
    "EPOCHS = 100\n",
    "\n",
    "es_callback = tf.keras.callbacks.EarlyStopping(monitor='val_loss', patience=2, \n",
    "                                               restore_best_weights=False,\n",
    "                                               verbose=1)\n",
    "\n",
    "history = adv_model.fit(train_data, validation_data=val_data,\n",
    "                        validation_steps=val_steps, batch_size=batch_size,\n",
    "                    callbacks=[es_callback], \n",
    "                     epochs=EPOCHS,\n",
    "                    verbose=1)"
   ]
  },
  {
   "cell_type": "markdown",
   "metadata": {
    "colab_type": "text",
    "id": "-COJiiKj-THJ"
   },
   "source": [
    "## Visualize Learning Curves"
   ]
  },
  {
   "cell_type": "code",
   "execution_count": null,
   "metadata": {
    "colab": {
     "base_uri": "https://localhost:8080/",
     "height": 265
    },
    "colab_type": "code",
    "id": "YNvZC8iIMh7r",
    "outputId": "423c1ebc-7115-4b07-cf09-79d16a9beeb6"
   },
   "outputs": [
    {
     "data": {
      "image/png": "[encoded data removed]",
      "text/plain": [
       "<Figure size 720x288 with 2 Axes>"
      ]
     },
     "metadata": {
      "needs_background": "light",
      "tags": []
     },
     "output_type": "display_data"
    }
   ],
   "source": [
    "fig, ax = plt.subplots(1, 2, figsize=(10, 4))\n",
    "\n",
    "history_df = pd.DataFrame(history.history)\n",
    "history_df[['loss', 'val_loss']].plot(kind='line', ax=ax[0])\n",
    "history_df[['sparse_categorical_accuracy', 'val_sparse_categorical_accuracy']].plot(kind='line', ax=ax[1]);"
   ]
  },
  {
   "cell_type": "markdown",
   "metadata": {
    "colab_type": "text",
    "id": "q5qBXLpJ-VOa"
   },
   "source": [
    "## Adversarial Model Performance on Organic Test Dataset\n",
    "\n",
    "Here we check the performance of our pre-trained CNN model on the organic test data (without introducing any perturbations)"
   ]
  },
  {
   "cell_type": "code",
   "execution_count": null,
   "metadata": {
    "colab": {
     "base_uri": "https://localhost:8080/",
     "height": 629
    },
    "colab_type": "code",
    "id": "Wy-tqqzHNWJV",
    "outputId": "8c2ea98e-bd9e-42df-c092-90477ee583d2"
   },
   "outputs": [
    {
     "name": "stdout",
     "output_type": "stream",
     "text": [
      "              precision    recall  f1-score   support\n",
      "\n",
      " T-shirt/top       0.83      0.89      0.86      1000\n",
      "     Trouser       0.99      0.98      0.99      1000\n",
      "    Pullover       0.84      0.85      0.85      1000\n",
      "       Dress       0.86      0.95      0.90      1000\n",
      "        Coat       0.87      0.80      0.83      1000\n",
      "      Sandal       0.99      0.98      0.98      1000\n",
      "       Shirt       0.78      0.69      0.73      1000\n",
      "     Sneaker       0.95      0.97      0.96      1000\n",
      "         Bag       0.99      0.99      0.99      1000\n",
      "  Ankle boot       0.98      0.97      0.97      1000\n",
      "\n",
      "    accuracy                           0.91     10000\n",
      "   macro avg       0.91      0.91      0.91     10000\n",
      "weighted avg       0.91      0.91      0.91     10000\n",
      "\n"
     ]
    },
    {
     "data": {
      "text/html": [
       "<div>\n",
       "<style scoped>\n",
       "    .dataframe tbody tr th:only-of-type {\n",
       "        vertical-align: middle;\n",
       "    }\n",
       "\n",
       "    .dataframe tbody tr th {\n",
       "        vertical-align: top;\n",
       "    }\n",
       "\n",
       "    .dataframe thead th {\n",
       "        text-align: right;\n",
       "    }\n",
       "</style>\n",
       "<table border=\"1\" class=\"dataframe\">\n",
       "  <thead>\n",
       "    <tr style=\"text-align: right;\">\n",
       "      <th></th>\n",
       "      <th>T-shirt/top</th>\n",
       "      <th>Trouser</th>\n",
       "      <th>Pullover</th>\n",
       "      <th>Dress</th>\n",
       "      <th>Coat</th>\n",
       "      <th>Sandal</th>\n",
       "      <th>Shirt</th>\n",
       "      <th>Sneaker</th>\n",
       "      <th>Bag</th>\n",
       "      <th>Ankle boot</th>\n",
       "    </tr>\n",
       "  </thead>\n",
       "  <tbody>\n",
       "    <tr>\n",
       "      <th>T-shirt/top</th>\n",
       "      <td>893</td>\n",
       "      <td>0</td>\n",
       "      <td>13</td>\n",
       "      <td>24</td>\n",
       "      <td>4</td>\n",
       "      <td>0</td>\n",
       "      <td>59</td>\n",
       "      <td>0</td>\n",
       "      <td>7</td>\n",
       "      <td>0</td>\n",
       "    </tr>\n",
       "    <tr>\n",
       "      <th>Trouser</th>\n",
       "      <td>0</td>\n",
       "      <td>983</td>\n",
       "      <td>0</td>\n",
       "      <td>14</td>\n",
       "      <td>0</td>\n",
       "      <td>0</td>\n",
       "      <td>1</td>\n",
       "      <td>0</td>\n",
       "      <td>2</td>\n",
       "      <td>0</td>\n",
       "    </tr>\n",
       "    <tr>\n",
       "      <th>Pullover</th>\n",
       "      <td>17</td>\n",
       "      <td>0</td>\n",
       "      <td>855</td>\n",
       "      <td>17</td>\n",
       "      <td>54</td>\n",
       "      <td>0</td>\n",
       "      <td>57</td>\n",
       "      <td>0</td>\n",
       "      <td>0</td>\n",
       "      <td>0</td>\n",
       "    </tr>\n",
       "    <tr>\n",
       "      <th>Dress</th>\n",
       "      <td>15</td>\n",
       "      <td>5</td>\n",
       "      <td>5</td>\n",
       "      <td>952</td>\n",
       "      <td>11</td>\n",
       "      <td>0</td>\n",
       "      <td>11</td>\n",
       "      <td>0</td>\n",
       "      <td>1</td>\n",
       "      <td>0</td>\n",
       "    </tr>\n",
       "    <tr>\n",
       "      <th>Coat</th>\n",
       "      <td>1</td>\n",
       "      <td>2</td>\n",
       "      <td>80</td>\n",
       "      <td>56</td>\n",
       "      <td>801</td>\n",
       "      <td>0</td>\n",
       "      <td>60</td>\n",
       "      <td>0</td>\n",
       "      <td>0</td>\n",
       "      <td>0</td>\n",
       "    </tr>\n",
       "    <tr>\n",
       "      <th>Sandal</th>\n",
       "      <td>0</td>\n",
       "      <td>0</td>\n",
       "      <td>0</td>\n",
       "      <td>0</td>\n",
       "      <td>0</td>\n",
       "      <td>979</td>\n",
       "      <td>0</td>\n",
       "      <td>20</td>\n",
       "      <td>1</td>\n",
       "      <td>0</td>\n",
       "    </tr>\n",
       "    <tr>\n",
       "      <th>Shirt</th>\n",
       "      <td>151</td>\n",
       "      <td>2</td>\n",
       "      <td>67</td>\n",
       "      <td>39</td>\n",
       "      <td>53</td>\n",
       "      <td>0</td>\n",
       "      <td>685</td>\n",
       "      <td>0</td>\n",
       "      <td>3</td>\n",
       "      <td>0</td>\n",
       "    </tr>\n",
       "    <tr>\n",
       "      <th>Sneaker</th>\n",
       "      <td>0</td>\n",
       "      <td>0</td>\n",
       "      <td>0</td>\n",
       "      <td>0</td>\n",
       "      <td>0</td>\n",
       "      <td>6</td>\n",
       "      <td>0</td>\n",
       "      <td>973</td>\n",
       "      <td>0</td>\n",
       "      <td>21</td>\n",
       "    </tr>\n",
       "    <tr>\n",
       "      <th>Bag</th>\n",
       "      <td>1</td>\n",
       "      <td>1</td>\n",
       "      <td>0</td>\n",
       "      <td>3</td>\n",
       "      <td>1</td>\n",
       "      <td>1</td>\n",
       "      <td>1</td>\n",
       "      <td>1</td>\n",
       "      <td>991</td>\n",
       "      <td>0</td>\n",
       "    </tr>\n",
       "    <tr>\n",
       "      <th>Ankle boot</th>\n",
       "      <td>0</td>\n",
       "      <td>0</td>\n",
       "      <td>0</td>\n",
       "      <td>0</td>\n",
       "      <td>0</td>\n",
       "      <td>4</td>\n",
       "      <td>1</td>\n",
       "      <td>29</td>\n",
       "      <td>0</td>\n",
       "      <td>966</td>\n",
       "    </tr>\n",
       "  </tbody>\n",
       "</table>\n",
       "</div>"
      ],
      "text/plain": [
       "             T-shirt/top  Trouser  Pullover  ...  Sneaker  Bag  Ankle boot\n",
       "T-shirt/top          893        0        13  ...        0    7           0\n",
       "Trouser                0      983         0  ...        0    2           0\n",
       "Pullover              17        0       855  ...        0    0           0\n",
       "Dress                 15        5         5  ...        0    1           0\n",
       "Coat                   1        2        80  ...        0    0           0\n",
       "Sandal                 0        0         0  ...       20    1           0\n",
       "Shirt                151        2        67  ...        0    3           0\n",
       "Sneaker                0        0         0  ...      973    0          21\n",
       "Bag                    1        1         0  ...        1  991           0\n",
       "Ankle boot             0        0         0  ...       29    0         966\n",
       "\n",
       "[10 rows x 10 columns]"
      ]
     },
     "execution_count": 85,
     "metadata": {
      "tags": []
     },
     "output_type": "execute_result"
    }
   ],
   "source": [
    "predictions = adv_model.base_model.predict(test_images_3ch_scaled)\n",
    "prediction_labels = np.argmax(predictions, axis=1)\n",
    "print(classification_report(test_labels, prediction_labels, target_names=class_names))\n",
    "pd.DataFrame(confusion_matrix(test_labels, prediction_labels), index=class_names, columns=class_names)"
   ]
  },
  {
   "cell_type": "markdown",
   "metadata": {},
   "source": [
    "#### Almost similar performance as our non-adversial trained CNN model!"
   ]
  },
  {
   "cell_type": "markdown",
   "metadata": {
    "colab_type": "text",
    "id": "oqIE9cTI-dbn"
   },
   "source": [
    "# VGG-19 CNN Base Model performance on Perturbed Test Dataset\n",
    "\n",
    "### Just a recap of the performance of our base CNN model on the test dataset with perturbations. Pretty pitiful!"
   ]
  },
  {
   "cell_type": "code",
   "execution_count": null,
   "metadata": {
    "colab": {
     "base_uri": "https://localhost:8080/",
     "height": 629
    },
    "colab_type": "code",
    "id": "xXD4kcT2rtcI",
    "outputId": "cbab54eb-bfce-40b8-8a2b-416d278f1ba1"
   },
   "outputs": [
    {
     "name": "stdout",
     "output_type": "stream",
     "text": [
      "              precision    recall  f1-score   support\n",
      "\n",
      " T-shirt/top       0.27      0.18      0.22      1000\n",
      "     Trouser       0.97      0.84      0.90      1000\n",
      "    Pullover       0.08      0.05      0.06      1000\n",
      "       Dress       0.57      0.47      0.51      1000\n",
      "        Coat       0.18      0.19      0.19      1000\n",
      "      Sandal       0.78      0.67      0.72      1000\n",
      "       Shirt       0.03      0.04      0.03      1000\n",
      "     Sneaker       0.49      0.23      0.32      1000\n",
      "         Bag       0.83      0.93      0.88      1000\n",
      "  Ankle boot       0.51      0.84      0.64      1000\n",
      "\n",
      "    accuracy                           0.45     10000\n",
      "   macro avg       0.47      0.45      0.45     10000\n",
      "weighted avg       0.47      0.45      0.45     10000\n",
      "\n"
     ]
    },
    {
     "data": {
      "text/html": [
       "<div>\n",
       "<style scoped>\n",
       "    .dataframe tbody tr th:only-of-type {\n",
       "        vertical-align: middle;\n",
       "    }\n",
       "\n",
       "    .dataframe tbody tr th {\n",
       "        vertical-align: top;\n",
       "    }\n",
       "\n",
       "    .dataframe thead th {\n",
       "        text-align: right;\n",
       "    }\n",
       "</style>\n",
       "<table border=\"1\" class=\"dataframe\">\n",
       "  <thead>\n",
       "    <tr style=\"text-align: right;\">\n",
       "      <th></th>\n",
       "      <th>T-shirt/top</th>\n",
       "      <th>Trouser</th>\n",
       "      <th>Pullover</th>\n",
       "      <th>Dress</th>\n",
       "      <th>Coat</th>\n",
       "      <th>Sandal</th>\n",
       "      <th>Shirt</th>\n",
       "      <th>Sneaker</th>\n",
       "      <th>Bag</th>\n",
       "      <th>Ankle boot</th>\n",
       "    </tr>\n",
       "  </thead>\n",
       "  <tbody>\n",
       "    <tr>\n",
       "      <th>T-shirt/top</th>\n",
       "      <td>182</td>\n",
       "      <td>1</td>\n",
       "      <td>63</td>\n",
       "      <td>81</td>\n",
       "      <td>20</td>\n",
       "      <td>0</td>\n",
       "      <td>617</td>\n",
       "      <td>0</td>\n",
       "      <td>36</td>\n",
       "      <td>0</td>\n",
       "    </tr>\n",
       "    <tr>\n",
       "      <th>Trouser</th>\n",
       "      <td>14</td>\n",
       "      <td>845</td>\n",
       "      <td>9</td>\n",
       "      <td>91</td>\n",
       "      <td>7</td>\n",
       "      <td>0</td>\n",
       "      <td>25</td>\n",
       "      <td>0</td>\n",
       "      <td>7</td>\n",
       "      <td>2</td>\n",
       "    </tr>\n",
       "    <tr>\n",
       "      <th>Pullover</th>\n",
       "      <td>28</td>\n",
       "      <td>1</td>\n",
       "      <td>54</td>\n",
       "      <td>19</td>\n",
       "      <td>332</td>\n",
       "      <td>0</td>\n",
       "      <td>540</td>\n",
       "      <td>0</td>\n",
       "      <td>23</td>\n",
       "      <td>3</td>\n",
       "    </tr>\n",
       "    <tr>\n",
       "      <th>Dress</th>\n",
       "      <td>164</td>\n",
       "      <td>19</td>\n",
       "      <td>60</td>\n",
       "      <td>469</td>\n",
       "      <td>139</td>\n",
       "      <td>0</td>\n",
       "      <td>133</td>\n",
       "      <td>0</td>\n",
       "      <td>12</td>\n",
       "      <td>4</td>\n",
       "    </tr>\n",
       "    <tr>\n",
       "      <th>Coat</th>\n",
       "      <td>12</td>\n",
       "      <td>4</td>\n",
       "      <td>258</td>\n",
       "      <td>95</td>\n",
       "      <td>190</td>\n",
       "      <td>0</td>\n",
       "      <td>404</td>\n",
       "      <td>0</td>\n",
       "      <td>37</td>\n",
       "      <td>0</td>\n",
       "    </tr>\n",
       "    <tr>\n",
       "      <th>Sandal</th>\n",
       "      <td>4</td>\n",
       "      <td>0</td>\n",
       "      <td>3</td>\n",
       "      <td>1</td>\n",
       "      <td>0</td>\n",
       "      <td>666</td>\n",
       "      <td>7</td>\n",
       "      <td>166</td>\n",
       "      <td>22</td>\n",
       "      <td>131</td>\n",
       "    </tr>\n",
       "    <tr>\n",
       "      <th>Shirt</th>\n",
       "      <td>267</td>\n",
       "      <td>1</td>\n",
       "      <td>231</td>\n",
       "      <td>60</td>\n",
       "      <td>353</td>\n",
       "      <td>0</td>\n",
       "      <td>45</td>\n",
       "      <td>0</td>\n",
       "      <td>41</td>\n",
       "      <td>2</td>\n",
       "    </tr>\n",
       "    <tr>\n",
       "      <th>Sneaker</th>\n",
       "      <td>0</td>\n",
       "      <td>0</td>\n",
       "      <td>0</td>\n",
       "      <td>0</td>\n",
       "      <td>0</td>\n",
       "      <td>117</td>\n",
       "      <td>0</td>\n",
       "      <td>234</td>\n",
       "      <td>4</td>\n",
       "      <td>645</td>\n",
       "    </tr>\n",
       "    <tr>\n",
       "      <th>Bag</th>\n",
       "      <td>12</td>\n",
       "      <td>0</td>\n",
       "      <td>5</td>\n",
       "      <td>5</td>\n",
       "      <td>4</td>\n",
       "      <td>4</td>\n",
       "      <td>28</td>\n",
       "      <td>1</td>\n",
       "      <td>933</td>\n",
       "      <td>8</td>\n",
       "    </tr>\n",
       "    <tr>\n",
       "      <th>Ankle boot</th>\n",
       "      <td>0</td>\n",
       "      <td>0</td>\n",
       "      <td>0</td>\n",
       "      <td>3</td>\n",
       "      <td>0</td>\n",
       "      <td>71</td>\n",
       "      <td>0</td>\n",
       "      <td>80</td>\n",
       "      <td>5</td>\n",
       "      <td>841</td>\n",
       "    </tr>\n",
       "  </tbody>\n",
       "</table>\n",
       "</div>"
      ],
      "text/plain": [
       "             T-shirt/top  Trouser  Pullover  ...  Sneaker  Bag  Ankle boot\n",
       "T-shirt/top          182        1        63  ...        0   36           0\n",
       "Trouser               14      845         9  ...        0    7           2\n",
       "Pullover              28        1        54  ...        0   23           3\n",
       "Dress                164       19        60  ...        0   12           4\n",
       "Coat                  12        4       258  ...        0   37           0\n",
       "Sandal                 4        0         3  ...      166   22         131\n",
       "Shirt                267        1       231  ...        0   41           2\n",
       "Sneaker                0        0         0  ...      234    4         645\n",
       "Bag                   12        0         5  ...        1  933           8\n",
       "Ankle boot             0        0         0  ...       80    5         841\n",
       "\n",
       "[10 rows x 10 columns]"
      ]
     },
     "execution_count": 128,
     "metadata": {
      "tags": []
     },
     "output_type": "execute_result"
    }
   ],
   "source": [
    "predictions = model.predict(perturbed_test_imgs)\n",
    "prediction_labels = np.argmax(predictions, axis=1)\n",
    "print(classification_report(test_labels, prediction_labels, target_names=class_names))\n",
    "pd.DataFrame(confusion_matrix(test_labels, prediction_labels), index=class_names, columns=class_names)"
   ]
  },
  {
   "cell_type": "markdown",
   "metadata": {
    "colab_type": "text",
    "id": "VWAtWpi4-gfM"
   },
   "source": [
    "# Adversarial Model performance on Perturbed Test Dataset\n",
    "\n",
    "### Evaluating our adverarial trained CNN model on the test dataset with perturbations. We see a 38% jump in performance!"
   ]
  },
  {
   "cell_type": "code",
   "execution_count": null,
   "metadata": {
    "colab": {
     "base_uri": "https://localhost:8080/",
     "height": 629
    },
    "colab_type": "code",
    "id": "Xy3rG9lqU1Qr",
    "outputId": "1cc5412b-2e2a-40d1-f91b-31205bf5cfa6"
   },
   "outputs": [
    {
     "name": "stdout",
     "output_type": "stream",
     "text": [
      "              precision    recall  f1-score   support\n",
      "\n",
      " T-shirt/top       0.77      0.80      0.79      1000\n",
      "     Trouser       0.98      0.97      0.98      1000\n",
      "    Pullover       0.70      0.64      0.67      1000\n",
      "       Dress       0.80      0.91      0.85      1000\n",
      "        Coat       0.71      0.66      0.68      1000\n",
      "      Sandal       0.97      0.93      0.95      1000\n",
      "       Shirt       0.54      0.52      0.53      1000\n",
      "     Sneaker       0.89      0.93      0.91      1000\n",
      "         Bag       0.97      0.98      0.97      1000\n",
      "  Ankle boot       0.94      0.94      0.94      1000\n",
      "\n",
      "    accuracy                           0.83     10000\n",
      "   macro avg       0.83      0.83      0.83     10000\n",
      "weighted avg       0.83      0.83      0.83     10000\n",
      "\n"
     ]
    },
    {
     "data": {
      "text/html": [
       "<div>\n",
       "<style scoped>\n",
       "    .dataframe tbody tr th:only-of-type {\n",
       "        vertical-align: middle;\n",
       "    }\n",
       "\n",
       "    .dataframe tbody tr th {\n",
       "        vertical-align: top;\n",
       "    }\n",
       "\n",
       "    .dataframe thead th {\n",
       "        text-align: right;\n",
       "    }\n",
       "</style>\n",
       "<table border=\"1\" class=\"dataframe\">\n",
       "  <thead>\n",
       "    <tr style=\"text-align: right;\">\n",
       "      <th></th>\n",
       "      <th>T-shirt/top</th>\n",
       "      <th>Trouser</th>\n",
       "      <th>Pullover</th>\n",
       "      <th>Dress</th>\n",
       "      <th>Coat</th>\n",
       "      <th>Sandal</th>\n",
       "      <th>Shirt</th>\n",
       "      <th>Sneaker</th>\n",
       "      <th>Bag</th>\n",
       "      <th>Ankle boot</th>\n",
       "    </tr>\n",
       "  </thead>\n",
       "  <tbody>\n",
       "    <tr>\n",
       "      <th>T-shirt/top</th>\n",
       "      <td>801</td>\n",
       "      <td>0</td>\n",
       "      <td>15</td>\n",
       "      <td>51</td>\n",
       "      <td>3</td>\n",
       "      <td>0</td>\n",
       "      <td>117</td>\n",
       "      <td>0</td>\n",
       "      <td>13</td>\n",
       "      <td>0</td>\n",
       "    </tr>\n",
       "    <tr>\n",
       "      <th>Trouser</th>\n",
       "      <td>1</td>\n",
       "      <td>974</td>\n",
       "      <td>0</td>\n",
       "      <td>22</td>\n",
       "      <td>0</td>\n",
       "      <td>0</td>\n",
       "      <td>1</td>\n",
       "      <td>0</td>\n",
       "      <td>2</td>\n",
       "      <td>0</td>\n",
       "    </tr>\n",
       "    <tr>\n",
       "      <th>Pullover</th>\n",
       "      <td>14</td>\n",
       "      <td>6</td>\n",
       "      <td>635</td>\n",
       "      <td>16</td>\n",
       "      <td>148</td>\n",
       "      <td>0</td>\n",
       "      <td>181</td>\n",
       "      <td>0</td>\n",
       "      <td>0</td>\n",
       "      <td>0</td>\n",
       "    </tr>\n",
       "    <tr>\n",
       "      <th>Dress</th>\n",
       "      <td>24</td>\n",
       "      <td>8</td>\n",
       "      <td>9</td>\n",
       "      <td>914</td>\n",
       "      <td>18</td>\n",
       "      <td>0</td>\n",
       "      <td>24</td>\n",
       "      <td>0</td>\n",
       "      <td>3</td>\n",
       "      <td>0</td>\n",
       "    </tr>\n",
       "    <tr>\n",
       "      <th>Coat</th>\n",
       "      <td>3</td>\n",
       "      <td>1</td>\n",
       "      <td>128</td>\n",
       "      <td>83</td>\n",
       "      <td>659</td>\n",
       "      <td>0</td>\n",
       "      <td>123</td>\n",
       "      <td>0</td>\n",
       "      <td>3</td>\n",
       "      <td>0</td>\n",
       "    </tr>\n",
       "    <tr>\n",
       "      <th>Sandal</th>\n",
       "      <td>0</td>\n",
       "      <td>0</td>\n",
       "      <td>0</td>\n",
       "      <td>1</td>\n",
       "      <td>0</td>\n",
       "      <td>934</td>\n",
       "      <td>0</td>\n",
       "      <td>58</td>\n",
       "      <td>3</td>\n",
       "      <td>4</td>\n",
       "    </tr>\n",
       "    <tr>\n",
       "      <th>Shirt</th>\n",
       "      <td>195</td>\n",
       "      <td>2</td>\n",
       "      <td>111</td>\n",
       "      <td>54</td>\n",
       "      <td>105</td>\n",
       "      <td>0</td>\n",
       "      <td>523</td>\n",
       "      <td>0</td>\n",
       "      <td>10</td>\n",
       "      <td>0</td>\n",
       "    </tr>\n",
       "    <tr>\n",
       "      <th>Sneaker</th>\n",
       "      <td>0</td>\n",
       "      <td>0</td>\n",
       "      <td>0</td>\n",
       "      <td>0</td>\n",
       "      <td>0</td>\n",
       "      <td>15</td>\n",
       "      <td>0</td>\n",
       "      <td>933</td>\n",
       "      <td>0</td>\n",
       "      <td>52</td>\n",
       "    </tr>\n",
       "    <tr>\n",
       "      <th>Bag</th>\n",
       "      <td>1</td>\n",
       "      <td>0</td>\n",
       "      <td>3</td>\n",
       "      <td>8</td>\n",
       "      <td>1</td>\n",
       "      <td>1</td>\n",
       "      <td>7</td>\n",
       "      <td>2</td>\n",
       "      <td>977</td>\n",
       "      <td>0</td>\n",
       "    </tr>\n",
       "    <tr>\n",
       "      <th>Ankle boot</th>\n",
       "      <td>0</td>\n",
       "      <td>0</td>\n",
       "      <td>0</td>\n",
       "      <td>0</td>\n",
       "      <td>0</td>\n",
       "      <td>9</td>\n",
       "      <td>1</td>\n",
       "      <td>53</td>\n",
       "      <td>0</td>\n",
       "      <td>937</td>\n",
       "    </tr>\n",
       "  </tbody>\n",
       "</table>\n",
       "</div>"
      ],
      "text/plain": [
       "             T-shirt/top  Trouser  Pullover  ...  Sneaker  Bag  Ankle boot\n",
       "T-shirt/top          801        0        15  ...        0   13           0\n",
       "Trouser                1      974         0  ...        0    2           0\n",
       "Pullover              14        6       635  ...        0    0           0\n",
       "Dress                 24        8         9  ...        0    3           0\n",
       "Coat                   3        1       128  ...        0    3           0\n",
       "Sandal                 0        0         0  ...       58    3           4\n",
       "Shirt                195        2       111  ...        0   10           0\n",
       "Sneaker                0        0         0  ...      933    0          52\n",
       "Bag                    1        0         3  ...        2  977           0\n",
       "Ankle boot             0        0         0  ...       53    0         937\n",
       "\n",
       "[10 rows x 10 columns]"
      ]
     },
     "execution_count": 86,
     "metadata": {
      "tags": []
     },
     "output_type": "execute_result"
    }
   ],
   "source": [
    "predictions = adv_model.base_model.predict(perturbed_test_imgs)\n",
    "prediction_labels = np.argmax(predictions, axis=1)\n",
    "print(classification_report(test_labels, prediction_labels, target_names=class_names))\n",
    "pd.DataFrame(confusion_matrix(test_labels, prediction_labels), index=class_names, columns=class_names)"
   ]
  },
  {
   "cell_type": "markdown",
   "metadata": {
    "colab_type": "text",
    "id": "--jVksXQ-jKK"
   },
   "source": [
    "# Compare Model Performances on Sample Perturbed Test Examples"
   ]
  },
  {
   "cell_type": "code",
   "execution_count": null,
   "metadata": {
    "colab": {
     "base_uri": "https://localhost:8080/",
     "height": 688
    },
    "colab_type": "code",
    "id": "LVETtaCXnahv",
    "outputId": "70c35a2f-1eec-41a2-b13b-d67697aabff1"
   },
   "outputs": [
    {
     "data": {
      "image/png": "[encoded data removed]",
      "text/plain": [
       "<Figure size 2160x1080 with 10 Axes>"
      ]
     },
     "metadata": {
      "needs_background": "light",
      "tags": []
     },
     "output_type": "display_data"
    }
   ],
   "source": [
    "f, ax = plt.subplots(2, 5, figsize=(30, 15))\n",
    "for idx, i in enumerate([6, 7, 8 , 9, 10, 11, 95, 99, 29, 33]):\n",
    "    idx_x = idx // 5\n",
    "    idx_y = idx % 5 \n",
    "\n",
    "    sample_apparel_idx = i\n",
    "    sample_apparel_img =  tf.convert_to_tensor([perturbed_test_imgs[sample_apparel_idx]])\n",
    "    sample_apparel_labelidx = test_labels[sample_apparel_idx]\n",
    "\n",
    "    bm_pred = get_model_preds(input_image=sample_apparel_img, class_names_map=class_names, model=model)[0]\n",
    "    am_pred = get_model_preds(input_image=sample_apparel_img, class_names_map=class_names, model=adv_model.base_model)[0]\n",
    "\n",
    "    ax[idx_x, idx_y].imshow(sample_apparel_img[0])\n",
    "    ax[idx_x, idx_y].set_title('True Label:{}\\nBase VGG Model Pred:{}\\nAdverarial Reg. Model Pred:{}'.format(class_names[sample_apparel_labelidx],\n",
    "                                                                                            bm_pred,\n",
    "                                                                                            am_pred))\n"
   ]
  }
 ],
 "metadata": {
  "accelerator": "GPU",
  "colab": {
   "collapsed_sections": [],
   "name": "Adversarial Learning - Robust Vision Models.ipynb",
   "provenance": []
  },
  "kernelspec": {
   "display_name": "Python 3",
   "language": "python",
   "name": "python3"
  },
  "language_info": {
   "codemirror_mode": {
    "name": "ipython",
    "version": 3
   },
   "file_extension": ".py",
   "mimetype": "text/x-python",
   "name": "python",
   "nbconvert_exporter": "python",
   "pygments_lexer": "ipython3",
   "version": "3.7.6"
  }
 },
 "nbformat": 4,
 "nbformat_minor": 1
}
